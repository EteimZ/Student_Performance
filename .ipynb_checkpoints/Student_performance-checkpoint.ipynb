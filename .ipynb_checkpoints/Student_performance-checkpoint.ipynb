{
 "cells": [
  {
   "cell_type": "markdown",
   "metadata": {},
   "source": [
    "# Predicting Student Performance with Machine Learning."
   ]
  },
  {
   "cell_type": "markdown",
   "metadata": {},
   "source": [
    "In this notebook, I will be using the data collected from two Secondary Schools in portugal to predict student performance in their final exam. I will be tackling the problem using **regression** and **binary classification** algorithms."
   ]
  },
  {
   "cell_type": "markdown",
   "metadata": {},
   "source": [
    "Two dataset where given, the data for Mathematics and Portuguese language."
   ]
  },
  {
   "cell_type": "code",
   "execution_count": 3,
   "metadata": {},
   "outputs": [],
   "source": [
    "import tensorflow as tf\n",
    "import pandas as pd\n",
    "import matplotlib.pyplot as plt\n",
    "import seaborn as sns\n",
    "\n",
    "path = \"data/\"\n",
    "df_port = pd.read_csv(path + \"student-por.csv\", sep = \";\")"
   ]
  },
  {
   "cell_type": "markdown",
   "metadata": {},
   "source": [
    "## Portuguese Exploration"
   ]
  },
  {
   "cell_type": "code",
   "execution_count": 113,
   "metadata": {
    "scrolled": true
   },
   "outputs": [
    {
     "data": {
      "text/html": [
       "<div>\n",
       "<style scoped>\n",
       "    .dataframe tbody tr th:only-of-type {\n",
       "        vertical-align: middle;\n",
       "    }\n",
       "\n",
       "    .dataframe tbody tr th {\n",
       "        vertical-align: top;\n",
       "    }\n",
       "\n",
       "    .dataframe thead th {\n",
       "        text-align: right;\n",
       "    }\n",
       "</style>\n",
       "<table border=\"1\" class=\"dataframe\">\n",
       "  <thead>\n",
       "    <tr style=\"text-align: right;\">\n",
       "      <th></th>\n",
       "      <th>school</th>\n",
       "      <th>sex</th>\n",
       "      <th>age</th>\n",
       "      <th>address</th>\n",
       "      <th>famsize</th>\n",
       "      <th>Pstatus</th>\n",
       "      <th>Medu</th>\n",
       "      <th>Fedu</th>\n",
       "      <th>Mjob</th>\n",
       "      <th>Fjob</th>\n",
       "      <th>...</th>\n",
       "      <th>famrel</th>\n",
       "      <th>freetime</th>\n",
       "      <th>goout</th>\n",
       "      <th>Dalc</th>\n",
       "      <th>Walc</th>\n",
       "      <th>health</th>\n",
       "      <th>absences</th>\n",
       "      <th>G1</th>\n",
       "      <th>G2</th>\n",
       "      <th>G3</th>\n",
       "    </tr>\n",
       "  </thead>\n",
       "  <tbody>\n",
       "    <tr>\n",
       "      <th>0</th>\n",
       "      <td>GP</td>\n",
       "      <td>F</td>\n",
       "      <td>18</td>\n",
       "      <td>U</td>\n",
       "      <td>GT3</td>\n",
       "      <td>A</td>\n",
       "      <td>4</td>\n",
       "      <td>4</td>\n",
       "      <td>at_home</td>\n",
       "      <td>teacher</td>\n",
       "      <td>...</td>\n",
       "      <td>4</td>\n",
       "      <td>3</td>\n",
       "      <td>4</td>\n",
       "      <td>1</td>\n",
       "      <td>1</td>\n",
       "      <td>3</td>\n",
       "      <td>4</td>\n",
       "      <td>0</td>\n",
       "      <td>11</td>\n",
       "      <td>11</td>\n",
       "    </tr>\n",
       "    <tr>\n",
       "      <th>1</th>\n",
       "      <td>GP</td>\n",
       "      <td>F</td>\n",
       "      <td>17</td>\n",
       "      <td>U</td>\n",
       "      <td>GT3</td>\n",
       "      <td>T</td>\n",
       "      <td>1</td>\n",
       "      <td>1</td>\n",
       "      <td>at_home</td>\n",
       "      <td>other</td>\n",
       "      <td>...</td>\n",
       "      <td>5</td>\n",
       "      <td>3</td>\n",
       "      <td>3</td>\n",
       "      <td>1</td>\n",
       "      <td>1</td>\n",
       "      <td>3</td>\n",
       "      <td>2</td>\n",
       "      <td>9</td>\n",
       "      <td>11</td>\n",
       "      <td>11</td>\n",
       "    </tr>\n",
       "    <tr>\n",
       "      <th>2</th>\n",
       "      <td>GP</td>\n",
       "      <td>F</td>\n",
       "      <td>15</td>\n",
       "      <td>U</td>\n",
       "      <td>LE3</td>\n",
       "      <td>T</td>\n",
       "      <td>1</td>\n",
       "      <td>1</td>\n",
       "      <td>at_home</td>\n",
       "      <td>other</td>\n",
       "      <td>...</td>\n",
       "      <td>4</td>\n",
       "      <td>3</td>\n",
       "      <td>2</td>\n",
       "      <td>2</td>\n",
       "      <td>3</td>\n",
       "      <td>3</td>\n",
       "      <td>6</td>\n",
       "      <td>12</td>\n",
       "      <td>13</td>\n",
       "      <td>12</td>\n",
       "    </tr>\n",
       "    <tr>\n",
       "      <th>3</th>\n",
       "      <td>GP</td>\n",
       "      <td>F</td>\n",
       "      <td>15</td>\n",
       "      <td>U</td>\n",
       "      <td>GT3</td>\n",
       "      <td>T</td>\n",
       "      <td>4</td>\n",
       "      <td>2</td>\n",
       "      <td>health</td>\n",
       "      <td>services</td>\n",
       "      <td>...</td>\n",
       "      <td>3</td>\n",
       "      <td>2</td>\n",
       "      <td>2</td>\n",
       "      <td>1</td>\n",
       "      <td>1</td>\n",
       "      <td>5</td>\n",
       "      <td>0</td>\n",
       "      <td>14</td>\n",
       "      <td>14</td>\n",
       "      <td>14</td>\n",
       "    </tr>\n",
       "    <tr>\n",
       "      <th>4</th>\n",
       "      <td>GP</td>\n",
       "      <td>F</td>\n",
       "      <td>16</td>\n",
       "      <td>U</td>\n",
       "      <td>GT3</td>\n",
       "      <td>T</td>\n",
       "      <td>3</td>\n",
       "      <td>3</td>\n",
       "      <td>other</td>\n",
       "      <td>other</td>\n",
       "      <td>...</td>\n",
       "      <td>4</td>\n",
       "      <td>3</td>\n",
       "      <td>2</td>\n",
       "      <td>1</td>\n",
       "      <td>2</td>\n",
       "      <td>5</td>\n",
       "      <td>0</td>\n",
       "      <td>11</td>\n",
       "      <td>13</td>\n",
       "      <td>13</td>\n",
       "    </tr>\n",
       "  </tbody>\n",
       "</table>\n",
       "<p>5 rows × 33 columns</p>\n",
       "</div>"
      ],
      "text/plain": [
       "  school sex  age address famsize Pstatus  Medu  Fedu     Mjob      Fjob  ...  \\\n",
       "0     GP   F   18       U     GT3       A     4     4  at_home   teacher  ...   \n",
       "1     GP   F   17       U     GT3       T     1     1  at_home     other  ...   \n",
       "2     GP   F   15       U     LE3       T     1     1  at_home     other  ...   \n",
       "3     GP   F   15       U     GT3       T     4     2   health  services  ...   \n",
       "4     GP   F   16       U     GT3       T     3     3    other     other  ...   \n",
       "\n",
       "  famrel freetime  goout  Dalc  Walc health absences  G1  G2  G3  \n",
       "0      4        3      4     1     1      3        4   0  11  11  \n",
       "1      5        3      3     1     1      3        2   9  11  11  \n",
       "2      4        3      2     2     3      3        6  12  13  12  \n",
       "3      3        2      2     1     1      5        0  14  14  14  \n",
       "4      4        3      2     1     2      5        0  11  13  13  \n",
       "\n",
       "[5 rows x 33 columns]"
      ]
     },
     "execution_count": 113,
     "metadata": {},
     "output_type": "execute_result"
    }
   ],
   "source": [
    "df_port.head()"
   ]
  },
  {
   "cell_type": "code",
   "execution_count": 114,
   "metadata": {},
   "outputs": [
    {
     "name": "stdout",
     "output_type": "stream",
     "text": [
      "Portuguese dataframe shape: (649, 33)\n"
     ]
    }
   ],
   "source": [
    "print(\"Portuguese dataframe shape:\",df_port.shape)"
   ]
  },
  {
   "cell_type": "code",
   "execution_count": 115,
   "metadata": {},
   "outputs": [
    {
     "data": {
      "text/plain": [
       "Index(['school', 'sex', 'age', 'address', 'famsize', 'Pstatus', 'Medu', 'Fedu',\n",
       "       'Mjob', 'Fjob', 'reason', 'guardian', 'traveltime', 'studytime',\n",
       "       'failures', 'schoolsup', 'famsup', 'paid', 'activities', 'nursery',\n",
       "       'higher', 'internet', 'romantic', 'famrel', 'freetime', 'goout', 'Dalc',\n",
       "       'Walc', 'health', 'absences', 'G1', 'G2', 'G3'],\n",
       "      dtype='object')"
      ]
     },
     "execution_count": 115,
     "metadata": {},
     "output_type": "execute_result"
    }
   ],
   "source": [
    "df_port.columns"
   ]
  },
  {
   "cell_type": "code",
   "execution_count": 116,
   "metadata": {},
   "outputs": [
    {
     "name": "stdout",
     "output_type": "stream",
     "text": [
      "<class 'pandas.core.frame.DataFrame'>\n",
      "RangeIndex: 649 entries, 0 to 648\n",
      "Data columns (total 33 columns):\n",
      " #   Column      Non-Null Count  Dtype \n",
      "---  ------      --------------  ----- \n",
      " 0   school      649 non-null    object\n",
      " 1   sex         649 non-null    object\n",
      " 2   age         649 non-null    int64 \n",
      " 3   address     649 non-null    object\n",
      " 4   famsize     649 non-null    object\n",
      " 5   Pstatus     649 non-null    object\n",
      " 6   Medu        649 non-null    int64 \n",
      " 7   Fedu        649 non-null    int64 \n",
      " 8   Mjob        649 non-null    object\n",
      " 9   Fjob        649 non-null    object\n",
      " 10  reason      649 non-null    object\n",
      " 11  guardian    649 non-null    object\n",
      " 12  traveltime  649 non-null    int64 \n",
      " 13  studytime   649 non-null    int64 \n",
      " 14  failures    649 non-null    int64 \n",
      " 15  schoolsup   649 non-null    object\n",
      " 16  famsup      649 non-null    object\n",
      " 17  paid        649 non-null    object\n",
      " 18  activities  649 non-null    object\n",
      " 19  nursery     649 non-null    object\n",
      " 20  higher      649 non-null    object\n",
      " 21  internet    649 non-null    object\n",
      " 22  romantic    649 non-null    object\n",
      " 23  famrel      649 non-null    int64 \n",
      " 24  freetime    649 non-null    int64 \n",
      " 25  goout       649 non-null    int64 \n",
      " 26  Dalc        649 non-null    int64 \n",
      " 27  Walc        649 non-null    int64 \n",
      " 28  health      649 non-null    int64 \n",
      " 29  absences    649 non-null    int64 \n",
      " 30  G1          649 non-null    int64 \n",
      " 31  G2          649 non-null    int64 \n",
      " 32  G3          649 non-null    int64 \n",
      "dtypes: int64(16), object(17)\n",
      "memory usage: 167.4+ KB\n"
     ]
    }
   ],
   "source": [
    "df_port.info()"
   ]
  },
  {
   "cell_type": "code",
   "execution_count": 117,
   "metadata": {},
   "outputs": [
    {
     "data": {
      "text/html": [
       "<div>\n",
       "<style scoped>\n",
       "    .dataframe tbody tr th:only-of-type {\n",
       "        vertical-align: middle;\n",
       "    }\n",
       "\n",
       "    .dataframe tbody tr th {\n",
       "        vertical-align: top;\n",
       "    }\n",
       "\n",
       "    .dataframe thead th {\n",
       "        text-align: right;\n",
       "    }\n",
       "</style>\n",
       "<table border=\"1\" class=\"dataframe\">\n",
       "  <thead>\n",
       "    <tr style=\"text-align: right;\">\n",
       "      <th></th>\n",
       "      <th>count</th>\n",
       "      <th>mean</th>\n",
       "      <th>std</th>\n",
       "      <th>min</th>\n",
       "      <th>25%</th>\n",
       "      <th>50%</th>\n",
       "      <th>75%</th>\n",
       "      <th>max</th>\n",
       "    </tr>\n",
       "  </thead>\n",
       "  <tbody>\n",
       "    <tr>\n",
       "      <th>age</th>\n",
       "      <td>649.0</td>\n",
       "      <td>16.744222</td>\n",
       "      <td>1.218138</td>\n",
       "      <td>15.0</td>\n",
       "      <td>16.0</td>\n",
       "      <td>17.0</td>\n",
       "      <td>18.0</td>\n",
       "      <td>22.0</td>\n",
       "    </tr>\n",
       "    <tr>\n",
       "      <th>Medu</th>\n",
       "      <td>649.0</td>\n",
       "      <td>2.514638</td>\n",
       "      <td>1.134552</td>\n",
       "      <td>0.0</td>\n",
       "      <td>2.0</td>\n",
       "      <td>2.0</td>\n",
       "      <td>4.0</td>\n",
       "      <td>4.0</td>\n",
       "    </tr>\n",
       "    <tr>\n",
       "      <th>Fedu</th>\n",
       "      <td>649.0</td>\n",
       "      <td>2.306626</td>\n",
       "      <td>1.099931</td>\n",
       "      <td>0.0</td>\n",
       "      <td>1.0</td>\n",
       "      <td>2.0</td>\n",
       "      <td>3.0</td>\n",
       "      <td>4.0</td>\n",
       "    </tr>\n",
       "    <tr>\n",
       "      <th>traveltime</th>\n",
       "      <td>649.0</td>\n",
       "      <td>1.568567</td>\n",
       "      <td>0.748660</td>\n",
       "      <td>1.0</td>\n",
       "      <td>1.0</td>\n",
       "      <td>1.0</td>\n",
       "      <td>2.0</td>\n",
       "      <td>4.0</td>\n",
       "    </tr>\n",
       "    <tr>\n",
       "      <th>studytime</th>\n",
       "      <td>649.0</td>\n",
       "      <td>1.930663</td>\n",
       "      <td>0.829510</td>\n",
       "      <td>1.0</td>\n",
       "      <td>1.0</td>\n",
       "      <td>2.0</td>\n",
       "      <td>2.0</td>\n",
       "      <td>4.0</td>\n",
       "    </tr>\n",
       "    <tr>\n",
       "      <th>failures</th>\n",
       "      <td>649.0</td>\n",
       "      <td>0.221880</td>\n",
       "      <td>0.593235</td>\n",
       "      <td>0.0</td>\n",
       "      <td>0.0</td>\n",
       "      <td>0.0</td>\n",
       "      <td>0.0</td>\n",
       "      <td>3.0</td>\n",
       "    </tr>\n",
       "    <tr>\n",
       "      <th>famrel</th>\n",
       "      <td>649.0</td>\n",
       "      <td>3.930663</td>\n",
       "      <td>0.955717</td>\n",
       "      <td>1.0</td>\n",
       "      <td>4.0</td>\n",
       "      <td>4.0</td>\n",
       "      <td>5.0</td>\n",
       "      <td>5.0</td>\n",
       "    </tr>\n",
       "    <tr>\n",
       "      <th>freetime</th>\n",
       "      <td>649.0</td>\n",
       "      <td>3.180277</td>\n",
       "      <td>1.051093</td>\n",
       "      <td>1.0</td>\n",
       "      <td>3.0</td>\n",
       "      <td>3.0</td>\n",
       "      <td>4.0</td>\n",
       "      <td>5.0</td>\n",
       "    </tr>\n",
       "    <tr>\n",
       "      <th>goout</th>\n",
       "      <td>649.0</td>\n",
       "      <td>3.184900</td>\n",
       "      <td>1.175766</td>\n",
       "      <td>1.0</td>\n",
       "      <td>2.0</td>\n",
       "      <td>3.0</td>\n",
       "      <td>4.0</td>\n",
       "      <td>5.0</td>\n",
       "    </tr>\n",
       "    <tr>\n",
       "      <th>Dalc</th>\n",
       "      <td>649.0</td>\n",
       "      <td>1.502311</td>\n",
       "      <td>0.924834</td>\n",
       "      <td>1.0</td>\n",
       "      <td>1.0</td>\n",
       "      <td>1.0</td>\n",
       "      <td>2.0</td>\n",
       "      <td>5.0</td>\n",
       "    </tr>\n",
       "    <tr>\n",
       "      <th>Walc</th>\n",
       "      <td>649.0</td>\n",
       "      <td>2.280431</td>\n",
       "      <td>1.284380</td>\n",
       "      <td>1.0</td>\n",
       "      <td>1.0</td>\n",
       "      <td>2.0</td>\n",
       "      <td>3.0</td>\n",
       "      <td>5.0</td>\n",
       "    </tr>\n",
       "    <tr>\n",
       "      <th>health</th>\n",
       "      <td>649.0</td>\n",
       "      <td>3.536210</td>\n",
       "      <td>1.446259</td>\n",
       "      <td>1.0</td>\n",
       "      <td>2.0</td>\n",
       "      <td>4.0</td>\n",
       "      <td>5.0</td>\n",
       "      <td>5.0</td>\n",
       "    </tr>\n",
       "    <tr>\n",
       "      <th>absences</th>\n",
       "      <td>649.0</td>\n",
       "      <td>3.659476</td>\n",
       "      <td>4.640759</td>\n",
       "      <td>0.0</td>\n",
       "      <td>0.0</td>\n",
       "      <td>2.0</td>\n",
       "      <td>6.0</td>\n",
       "      <td>32.0</td>\n",
       "    </tr>\n",
       "    <tr>\n",
       "      <th>G1</th>\n",
       "      <td>649.0</td>\n",
       "      <td>11.399076</td>\n",
       "      <td>2.745265</td>\n",
       "      <td>0.0</td>\n",
       "      <td>10.0</td>\n",
       "      <td>11.0</td>\n",
       "      <td>13.0</td>\n",
       "      <td>19.0</td>\n",
       "    </tr>\n",
       "    <tr>\n",
       "      <th>G2</th>\n",
       "      <td>649.0</td>\n",
       "      <td>11.570108</td>\n",
       "      <td>2.913639</td>\n",
       "      <td>0.0</td>\n",
       "      <td>10.0</td>\n",
       "      <td>11.0</td>\n",
       "      <td>13.0</td>\n",
       "      <td>19.0</td>\n",
       "    </tr>\n",
       "    <tr>\n",
       "      <th>G3</th>\n",
       "      <td>649.0</td>\n",
       "      <td>11.906009</td>\n",
       "      <td>3.230656</td>\n",
       "      <td>0.0</td>\n",
       "      <td>10.0</td>\n",
       "      <td>12.0</td>\n",
       "      <td>14.0</td>\n",
       "      <td>19.0</td>\n",
       "    </tr>\n",
       "  </tbody>\n",
       "</table>\n",
       "</div>"
      ],
      "text/plain": [
       "            count       mean       std   min   25%   50%   75%   max\n",
       "age         649.0  16.744222  1.218138  15.0  16.0  17.0  18.0  22.0\n",
       "Medu        649.0   2.514638  1.134552   0.0   2.0   2.0   4.0   4.0\n",
       "Fedu        649.0   2.306626  1.099931   0.0   1.0   2.0   3.0   4.0\n",
       "traveltime  649.0   1.568567  0.748660   1.0   1.0   1.0   2.0   4.0\n",
       "studytime   649.0   1.930663  0.829510   1.0   1.0   2.0   2.0   4.0\n",
       "failures    649.0   0.221880  0.593235   0.0   0.0   0.0   0.0   3.0\n",
       "famrel      649.0   3.930663  0.955717   1.0   4.0   4.0   5.0   5.0\n",
       "freetime    649.0   3.180277  1.051093   1.0   3.0   3.0   4.0   5.0\n",
       "goout       649.0   3.184900  1.175766   1.0   2.0   3.0   4.0   5.0\n",
       "Dalc        649.0   1.502311  0.924834   1.0   1.0   1.0   2.0   5.0\n",
       "Walc        649.0   2.280431  1.284380   1.0   1.0   2.0   3.0   5.0\n",
       "health      649.0   3.536210  1.446259   1.0   2.0   4.0   5.0   5.0\n",
       "absences    649.0   3.659476  4.640759   0.0   0.0   2.0   6.0  32.0\n",
       "G1          649.0  11.399076  2.745265   0.0  10.0  11.0  13.0  19.0\n",
       "G2          649.0  11.570108  2.913639   0.0  10.0  11.0  13.0  19.0\n",
       "G3          649.0  11.906009  3.230656   0.0  10.0  12.0  14.0  19.0"
      ]
     },
     "execution_count": 117,
     "metadata": {},
     "output_type": "execute_result"
    }
   ],
   "source": [
    "df_port.describe().transpose()"
   ]
  },
  {
   "cell_type": "code",
   "execution_count": 118,
   "metadata": {},
   "outputs": [
    {
     "data": {
      "text/plain": [
       "17    179\n",
       "16    177\n",
       "18    140\n",
       "15    112\n",
       "19     32\n",
       "20      6\n",
       "21      2\n",
       "22      1\n",
       "Name: age, dtype: int64"
      ]
     },
     "execution_count": 118,
     "metadata": {},
     "output_type": "execute_result"
    }
   ],
   "source": [
    "df_port[\"age\"].value_counts()"
   ]
  },
  {
   "cell_type": "markdown",
   "metadata": {},
   "source": [
    "I am a bit fascinated by the oldest person in the dataset."
   ]
  },
  {
   "cell_type": "code",
   "execution_count": 119,
   "metadata": {},
   "outputs": [
    {
     "name": "stdout",
     "output_type": "stream",
     "text": [
      "5\n"
     ]
    }
   ],
   "source": [
    "for i in range(649):\n",
    "    if df_port[\"age\"][i] == 22:\n",
    "        print(df_port.loc[i][\"G3\"])"
   ]
  },
  {
   "cell_type": "markdown",
   "metadata": {},
   "source": [
    "He has a pretty low final score, Could age be correlated with the final score ?"
   ]
  },
  {
   "cell_type": "markdown",
   "metadata": {},
   "source": [
    "-----------------------------------------------------------------------------------------------------------------------"
   ]
  },
  {
   "cell_type": "markdown",
   "metadata": {},
   "source": [
    "Parents Educational background:\n",
    "\n",
    "0 - none.<br>\n",
    "1 - primary education (4th grade).<br>\n",
    "2 – 5th to 9th grade.<br>\n",
    "3 – secondary education.<br>\n",
    "4 – higher education."
   ]
  },
  {
   "cell_type": "code",
   "execution_count": 12,
   "metadata": {},
   "outputs": [
    {
     "name": "stdout",
     "output_type": "stream",
     "text": [
      "2    209\n",
      "1    174\n",
      "3    131\n",
      "4    128\n",
      "0      7\n",
      "Name: Fedu, dtype: int64\n",
      "2    186\n",
      "4    175\n",
      "1    143\n",
      "3    139\n",
      "0      6\n",
      "Name: Medu, dtype: int64\n"
     ]
    }
   ],
   "source": [
    "print(df_port[\"Fedu\"].value_counts())\n",
    "print(df_port[\"Medu\"].value_counts())"
   ]
  },
  {
   "cell_type": "code",
   "execution_count": 120,
   "metadata": {},
   "outputs": [
    {
     "data": {
      "image/png": "[encoded data removed]",
      "text/plain": [
       "<Figure size 432x288 with 2 Axes>"
      ]
     },
     "metadata": {
      "needs_background": "light"
     },
     "output_type": "display_data"
    }
   ],
   "source": [
    "plt.subplot(1, 2, 1) # (rows, columns, panel number)\n",
    "df_port[\"Medu\"].value_counts().plot(kind = \"barh\", title = \"Mother's Education\");\n",
    "plt.subplot(1, 2, 2)\n",
    "df_port[\"Fedu\"].value_counts().plot(kind = \"barh\", title = \"Father's Education\");"
   ]
  },
  {
   "cell_type": "markdown",
   "metadata": {},
   "source": [
    "Parents Jobs:"
   ]
  },
  {
   "cell_type": "code",
   "execution_count": 121,
   "metadata": {},
   "outputs": [
    {
     "data": {
      "image/png": "[encoded data removed]",
      "text/plain": [
       "<Figure size 432x288 with 2 Axes>"
      ]
     },
     "metadata": {
      "needs_background": "light"
     },
     "output_type": "display_data"
    }
   ],
   "source": [
    "plt.subplot(1, 2, 1) # (rows, columns, panel number)\n",
    "df_port[\"Mjob\"].value_counts().plot(kind = \"barh\", title = \"Mother's Job\");\n",
    "plt.subplot(1, 2, 2)\n",
    "df_port[\"Fjob\"].value_counts().plot(kind = \"barh\", title = \"Father's Job\");"
   ]
  },
  {
   "cell_type": "code",
   "execution_count": 122,
   "metadata": {},
   "outputs": [
    {
     "data": {
      "text/html": [
       "<div>\n",
       "<style scoped>\n",
       "    .dataframe tbody tr th:only-of-type {\n",
       "        vertical-align: middle;\n",
       "    }\n",
       "\n",
       "    .dataframe tbody tr th {\n",
       "        vertical-align: top;\n",
       "    }\n",
       "\n",
       "    .dataframe thead th {\n",
       "        text-align: right;\n",
       "    }\n",
       "</style>\n",
       "<table border=\"1\" class=\"dataframe\">\n",
       "  <thead>\n",
       "    <tr style=\"text-align: right;\">\n",
       "      <th></th>\n",
       "      <th>reason</th>\n",
       "      <th>guardian</th>\n",
       "      <th>traveltime</th>\n",
       "      <th>studytime</th>\n",
       "      <th>failures</th>\n",
       "    </tr>\n",
       "  </thead>\n",
       "  <tbody>\n",
       "    <tr>\n",
       "      <th>0</th>\n",
       "      <td>course</td>\n",
       "      <td>mother</td>\n",
       "      <td>2</td>\n",
       "      <td>2</td>\n",
       "      <td>0</td>\n",
       "    </tr>\n",
       "    <tr>\n",
       "      <th>1</th>\n",
       "      <td>course</td>\n",
       "      <td>father</td>\n",
       "      <td>1</td>\n",
       "      <td>2</td>\n",
       "      <td>0</td>\n",
       "    </tr>\n",
       "    <tr>\n",
       "      <th>2</th>\n",
       "      <td>other</td>\n",
       "      <td>mother</td>\n",
       "      <td>1</td>\n",
       "      <td>2</td>\n",
       "      <td>0</td>\n",
       "    </tr>\n",
       "    <tr>\n",
       "      <th>3</th>\n",
       "      <td>home</td>\n",
       "      <td>mother</td>\n",
       "      <td>1</td>\n",
       "      <td>3</td>\n",
       "      <td>0</td>\n",
       "    </tr>\n",
       "    <tr>\n",
       "      <th>4</th>\n",
       "      <td>home</td>\n",
       "      <td>father</td>\n",
       "      <td>1</td>\n",
       "      <td>2</td>\n",
       "      <td>0</td>\n",
       "    </tr>\n",
       "  </tbody>\n",
       "</table>\n",
       "</div>"
      ],
      "text/plain": [
       "   reason guardian  traveltime  studytime  failures\n",
       "0  course   mother           2          2         0\n",
       "1  course   father           1          2         0\n",
       "2   other   mother           1          2         0\n",
       "3    home   mother           1          3         0\n",
       "4    home   father           1          2         0"
      ]
     },
     "execution_count": 122,
     "metadata": {},
     "output_type": "execute_result"
    }
   ],
   "source": [
    "df_port[[\"school\",\"sex\",\"age\",\"address\",\"famsize\"]]\n",
    "X = df_port.columns\n",
    "df_port[X[10:15]].head()"
   ]
  },
  {
   "cell_type": "code",
   "execution_count": 123,
   "metadata": {},
   "outputs": [
    {
     "name": "stdout",
     "output_type": "stream",
     "text": [
      "Urban students: 452\n",
      "Rural students: 197\n"
     ]
    }
   ],
   "source": [
    "Urban_students = df_port[df_port[\"address\"] == \"U\"]\n",
    "Rural_students = df_port[df_port[\"address\"] == \"R\"]\n",
    "print(\"Urban students:\",Urban_students.shape[0])\n",
    "print(\"Rural students:\",Rural_students.shape[0])"
   ]
  },
  {
   "cell_type": "code",
   "execution_count": 124,
   "metadata": {},
   "outputs": [
    {
     "name": "stdout",
     "output_type": "stream",
     "text": [
      "Missing data by columns:\n"
     ]
    },
    {
     "data": {
      "text/plain": [
       "school        0\n",
       "sex           0\n",
       "age           0\n",
       "address       0\n",
       "famsize       0\n",
       "Pstatus       0\n",
       "Medu          0\n",
       "Fedu          0\n",
       "Mjob          0\n",
       "Fjob          0\n",
       "reason        0\n",
       "guardian      0\n",
       "traveltime    0\n",
       "studytime     0\n",
       "failures      0\n",
       "schoolsup     0\n",
       "famsup        0\n",
       "paid          0\n",
       "activities    0\n",
       "nursery       0\n",
       "higher        0\n",
       "internet      0\n",
       "romantic      0\n",
       "famrel        0\n",
       "freetime      0\n",
       "goout         0\n",
       "Dalc          0\n",
       "Walc          0\n",
       "health        0\n",
       "absences      0\n",
       "G1            0\n",
       "G2            0\n",
       "G3            0\n",
       "dtype: int64"
      ]
     },
     "execution_count": 124,
     "metadata": {},
     "output_type": "execute_result"
    }
   ],
   "source": [
    "print(\"Missing data by columns:\")\n",
    "df_port.isnull().sum()"
   ]
  },
  {
   "cell_type": "markdown",
   "metadata": {},
   "source": [
    "Checking the relationship between Age and Score."
   ]
  },
  {
   "cell_type": "code",
   "execution_count": 125,
   "metadata": {},
   "outputs": [
    {
     "data": {
      "text/plain": [
       "<AxesSubplot:xlabel='age', ylabel='G3'>"
      ]
     },
     "execution_count": 125,
     "metadata": {},
     "output_type": "execute_result"
    },
    {
     "data": {
      "image/png": "[encoded data removed]",
      "text/plain": [
       "<Figure size 432x288 with 1 Axes>"
      ]
     },
     "metadata": {
      "needs_background": "light"
     },
     "output_type": "display_data"
    }
   ],
   "source": [
    "sns.regplot(df_port[\"age\"],df_port[\"G3\"])"
   ]
  },
  {
   "cell_type": "markdown",
   "metadata": {},
   "source": [
    "The school *Gabriel Pereira*(GP) seems to have have better performance than *Mousinho da Silveira*(MS):"
   ]
  },
  {
   "cell_type": "code",
   "execution_count": 126,
   "metadata": {},
   "outputs": [
    {
     "name": "stdout",
     "output_type": "stream",
     "text": [
      "school\n",
      "GP    12.576832\n",
      "MS    10.650442\n",
      "Name: G3, dtype: float64\n"
     ]
    },
    {
     "data": {
      "image/png": "[encoded data removed]",
      "text/plain": [
       "<Figure size 432x288 with 1 Axes>"
      ]
     },
     "metadata": {
      "needs_background": "light"
     },
     "output_type": "display_data"
    }
   ],
   "source": [
    "df_port.groupby(\"school\")[\"G3\"].mean().plot(kind=\"bar\")\n",
    "print(df_port.groupby(\"school\")[\"G3\"].mean())"
   ]
  },
  {
   "cell_type": "code",
   "execution_count": 127,
   "metadata": {},
   "outputs": [
    {
     "data": {
      "image/png": "[encoded data removed]",
      "text/plain": [
       "<Figure size 432x288 with 1 Axes>"
      ]
     },
     "metadata": {
      "needs_background": "light"
     },
     "output_type": "display_data"
    }
   ],
   "source": [
    "df_port[\"sex\"].value_counts().plot(kind = \"barh\");"
   ]
  },
  {
   "cell_type": "markdown",
   "metadata": {},
   "source": [
    "Getting normalize version:"
   ]
  },
  {
   "cell_type": "code",
   "execution_count": 128,
   "metadata": {},
   "outputs": [
    {
     "data": {
      "image/png": "[encoded data removed]",
      "text/plain": [
       "<Figure size 432x288 with 1 Axes>"
      ]
     },
     "metadata": {
      "needs_background": "light"
     },
     "output_type": "display_data"
    }
   ],
   "source": [
    "df_port[\"sex\"].value_counts(normalize = True).plot(kind = \"barh\");"
   ]
  },
  {
   "cell_type": "markdown",
   "metadata": {},
   "source": [
    "Females tend to perform better than the Males:"
   ]
  },
  {
   "cell_type": "code",
   "execution_count": 129,
   "metadata": {},
   "outputs": [
    {
     "data": {
      "text/plain": [
       "<AxesSubplot:xlabel='sex'>"
      ]
     },
     "execution_count": 129,
     "metadata": {},
     "output_type": "execute_result"
    },
    {
     "data": {
      "image/png": "[encoded data removed]",
      "text/plain": [
       "<Figure size 432x288 with 1 Axes>"
      ]
     },
     "metadata": {
      "needs_background": "light"
     },
     "output_type": "display_data"
    }
   ],
   "source": [
    "df_port.groupby(\"sex\")[\"G3\"].mean().plot(kind=\"bar\")"
   ]
  },
  {
   "cell_type": "code",
   "execution_count": 130,
   "metadata": {},
   "outputs": [
    {
     "data": {
      "text/plain": [
       "count    649.000000\n",
       "mean      11.906009\n",
       "std        3.230656\n",
       "min        0.000000\n",
       "25%       10.000000\n",
       "50%       12.000000\n",
       "75%       14.000000\n",
       "max       19.000000\n",
       "Name: G3, dtype: float64"
      ]
     },
     "execution_count": 130,
     "metadata": {},
     "output_type": "execute_result"
    }
   ],
   "source": [
    "df_port[\"G3\"].describe()"
   ]
  },
  {
   "cell_type": "markdown",
   "metadata": {},
   "source": [
    "Plotting the Distribution of the final score:"
   ]
  },
  {
   "cell_type": "code",
   "execution_count": 131,
   "metadata": {},
   "outputs": [
    {
     "data": {
      "image/png": "[encoded data removed]",
      "text/plain": [
       "<Figure size 432x288 with 1 Axes>"
      ]
     },
     "metadata": {
      "needs_background": "light"
     },
     "output_type": "display_data"
    }
   ],
   "source": [
    "sns.distplot(df_port[\"G3\"],color = \"g\", bins = 10);"
   ]
  },
  {
   "cell_type": "code",
   "execution_count": 132,
   "metadata": {},
   "outputs": [
    {
     "data": {
      "image/png": "[encoded data removed]",
      "text/plain": [
       "<Figure size 432x288 with 1 Axes>"
      ]
     },
     "metadata": {
      "needs_background": "light"
     },
     "output_type": "display_data"
    }
   ],
   "source": [
    "sns.kdeplot(df_port[\"G3\"],color = \"g\",shade=True);"
   ]
  },
  {
   "cell_type": "code",
   "execution_count": 133,
   "metadata": {},
   "outputs": [
    {
     "data": {
      "text/plain": [
       "<seaborn.axisgrid.PairGrid at 0x7f43e43fdd30>"
      ]
     },
     "execution_count": 133,
     "metadata": {},
     "output_type": "execute_result"
    },
    {
     "data": {
      "image/png": "[encoded data removed]",
      "text/plain": [
       "<Figure size 720x720 with 20 Axes>"
      ]
     },
     "metadata": {
      "needs_background": "light"
     },
     "output_type": "display_data"
    }
   ],
   "source": [
    "sns.pairplot(df_port[[\"age\", \"health\", \"absences\", \"G3\"]])"
   ]
  },
  {
   "cell_type": "markdown",
   "metadata": {},
   "source": [
    "Collecting all numeric data:"
   ]
  },
  {
   "cell_type": "code",
   "execution_count": 135,
   "metadata": {},
   "outputs": [
    {
     "data": {
      "text/html": [
       "<div>\n",
       "<style scoped>\n",
       "    .dataframe tbody tr th:only-of-type {\n",
       "        vertical-align: middle;\n",
       "    }\n",
       "\n",
       "    .dataframe tbody tr th {\n",
       "        vertical-align: top;\n",
       "    }\n",
       "\n",
       "    .dataframe thead th {\n",
       "        text-align: right;\n",
       "    }\n",
       "</style>\n",
       "<table border=\"1\" class=\"dataframe\">\n",
       "  <thead>\n",
       "    <tr style=\"text-align: right;\">\n",
       "      <th></th>\n",
       "      <th>age</th>\n",
       "      <th>Medu</th>\n",
       "      <th>Fedu</th>\n",
       "      <th>traveltime</th>\n",
       "      <th>studytime</th>\n",
       "      <th>failures</th>\n",
       "      <th>famrel</th>\n",
       "      <th>freetime</th>\n",
       "      <th>goout</th>\n",
       "      <th>Dalc</th>\n",
       "      <th>Walc</th>\n",
       "      <th>health</th>\n",
       "      <th>absences</th>\n",
       "      <th>G1</th>\n",
       "      <th>G2</th>\n",
       "      <th>G3</th>\n",
       "    </tr>\n",
       "  </thead>\n",
       "  <tbody>\n",
       "    <tr>\n",
       "      <th>0</th>\n",
       "      <td>18</td>\n",
       "      <td>4</td>\n",
       "      <td>4</td>\n",
       "      <td>2</td>\n",
       "      <td>2</td>\n",
       "      <td>0</td>\n",
       "      <td>4</td>\n",
       "      <td>3</td>\n",
       "      <td>4</td>\n",
       "      <td>1</td>\n",
       "      <td>1</td>\n",
       "      <td>3</td>\n",
       "      <td>4</td>\n",
       "      <td>0</td>\n",
       "      <td>11</td>\n",
       "      <td>11</td>\n",
       "    </tr>\n",
       "    <tr>\n",
       "      <th>1</th>\n",
       "      <td>17</td>\n",
       "      <td>1</td>\n",
       "      <td>1</td>\n",
       "      <td>1</td>\n",
       "      <td>2</td>\n",
       "      <td>0</td>\n",
       "      <td>5</td>\n",
       "      <td>3</td>\n",
       "      <td>3</td>\n",
       "      <td>1</td>\n",
       "      <td>1</td>\n",
       "      <td>3</td>\n",
       "      <td>2</td>\n",
       "      <td>9</td>\n",
       "      <td>11</td>\n",
       "      <td>11</td>\n",
       "    </tr>\n",
       "    <tr>\n",
       "      <th>2</th>\n",
       "      <td>15</td>\n",
       "      <td>1</td>\n",
       "      <td>1</td>\n",
       "      <td>1</td>\n",
       "      <td>2</td>\n",
       "      <td>0</td>\n",
       "      <td>4</td>\n",
       "      <td>3</td>\n",
       "      <td>2</td>\n",
       "      <td>2</td>\n",
       "      <td>3</td>\n",
       "      <td>3</td>\n",
       "      <td>6</td>\n",
       "      <td>12</td>\n",
       "      <td>13</td>\n",
       "      <td>12</td>\n",
       "    </tr>\n",
       "    <tr>\n",
       "      <th>3</th>\n",
       "      <td>15</td>\n",
       "      <td>4</td>\n",
       "      <td>2</td>\n",
       "      <td>1</td>\n",
       "      <td>3</td>\n",
       "      <td>0</td>\n",
       "      <td>3</td>\n",
       "      <td>2</td>\n",
       "      <td>2</td>\n",
       "      <td>1</td>\n",
       "      <td>1</td>\n",
       "      <td>5</td>\n",
       "      <td>0</td>\n",
       "      <td>14</td>\n",
       "      <td>14</td>\n",
       "      <td>14</td>\n",
       "    </tr>\n",
       "    <tr>\n",
       "      <th>4</th>\n",
       "      <td>16</td>\n",
       "      <td>3</td>\n",
       "      <td>3</td>\n",
       "      <td>1</td>\n",
       "      <td>2</td>\n",
       "      <td>0</td>\n",
       "      <td>4</td>\n",
       "      <td>3</td>\n",
       "      <td>2</td>\n",
       "      <td>1</td>\n",
       "      <td>2</td>\n",
       "      <td>5</td>\n",
       "      <td>0</td>\n",
       "      <td>11</td>\n",
       "      <td>13</td>\n",
       "      <td>13</td>\n",
       "    </tr>\n",
       "  </tbody>\n",
       "</table>\n",
       "</div>"
      ],
      "text/plain": [
       "   age  Medu  Fedu  traveltime  studytime  failures  famrel  freetime  goout  \\\n",
       "0   18     4     4           2          2         0       4         3      4   \n",
       "1   17     1     1           1          2         0       5         3      3   \n",
       "2   15     1     1           1          2         0       4         3      2   \n",
       "3   15     4     2           1          3         0       3         2      2   \n",
       "4   16     3     3           1          2         0       4         3      2   \n",
       "\n",
       "   Dalc  Walc  health  absences  G1  G2  G3  \n",
       "0     1     1       3         4   0  11  11  \n",
       "1     1     1       3         2   9  11  11  \n",
       "2     2     3       3         6  12  13  12  \n",
       "3     1     1       5         0  14  14  14  \n",
       "4     1     2       5         0  11  13  13  "
      ]
     },
     "execution_count": 135,
     "metadata": {},
     "output_type": "execute_result"
    }
   ],
   "source": [
    "df_num = df_port.select_dtypes(include = [\"float64\",\"int64\"])\n",
    "df_num.head()"
   ]
  },
  {
   "cell_type": "code",
   "execution_count": 136,
   "metadata": {},
   "outputs": [
    {
     "data": {
      "image/png": "[encoded data removed]",
      "text/plain": [
       "<Figure size 1152x936 with 16 Axes>"
      ]
     },
     "metadata": {
      "needs_background": "light"
     },
     "output_type": "display_data"
    }
   ],
   "source": [
    "df_num.hist(figsize=(16,13),bins = 10, xlabelsize = 8, ylabelsize = 8);"
   ]
  },
  {
   "cell_type": "markdown",
   "metadata": {},
   "source": [
    "Using boxplot to find the relationship between Parent's job and Students performance:"
   ]
  },
  {
   "cell_type": "code",
   "execution_count": 137,
   "metadata": {},
   "outputs": [
    {
     "data": {
      "text/plain": [
       "<AxesSubplot:xlabel='Fjob', ylabel='G3'>"
      ]
     },
     "execution_count": 137,
     "metadata": {},
     "output_type": "execute_result"
    },
    {
     "data": {
      "image/png": "[encoded data removed]",
      "text/plain": [
       "<Figure size 720x432 with 1 Axes>"
      ]
     },
     "metadata": {
      "needs_background": "light"
     },
     "output_type": "display_data"
    }
   ],
   "source": [
    "plt.figure(figsize=(10,6))\n",
    "sns.boxplot(x=df_port[\"Fjob\"],y=df_port[\"G3\"])"
   ]
  },
  {
   "cell_type": "code",
   "execution_count": 138,
   "metadata": {},
   "outputs": [
    {
     "data": {
      "text/html": [
       "<div>\n",
       "<style scoped>\n",
       "    .dataframe tbody tr th:only-of-type {\n",
       "        vertical-align: middle;\n",
       "    }\n",
       "\n",
       "    .dataframe tbody tr th {\n",
       "        vertical-align: top;\n",
       "    }\n",
       "\n",
       "    .dataframe thead th {\n",
       "        text-align: right;\n",
       "    }\n",
       "</style>\n",
       "<table border=\"1\" class=\"dataframe\">\n",
       "  <thead>\n",
       "    <tr style=\"text-align: right;\">\n",
       "      <th></th>\n",
       "      <th>count</th>\n",
       "      <th>mean</th>\n",
       "      <th>std</th>\n",
       "      <th>min</th>\n",
       "      <th>25%</th>\n",
       "      <th>50%</th>\n",
       "      <th>75%</th>\n",
       "      <th>max</th>\n",
       "    </tr>\n",
       "    <tr>\n",
       "      <th>Fjob</th>\n",
       "      <th></th>\n",
       "      <th></th>\n",
       "      <th></th>\n",
       "      <th></th>\n",
       "      <th></th>\n",
       "      <th></th>\n",
       "      <th></th>\n",
       "      <th></th>\n",
       "    </tr>\n",
       "  </thead>\n",
       "  <tbody>\n",
       "    <tr>\n",
       "      <th>at_home</th>\n",
       "      <td>42.0</td>\n",
       "      <td>11.428571</td>\n",
       "      <td>3.201698</td>\n",
       "      <td>0.0</td>\n",
       "      <td>10.0</td>\n",
       "      <td>11.0</td>\n",
       "      <td>14.0</td>\n",
       "      <td>18.0</td>\n",
       "    </tr>\n",
       "    <tr>\n",
       "      <th>health</th>\n",
       "      <td>23.0</td>\n",
       "      <td>12.565217</td>\n",
       "      <td>3.130874</td>\n",
       "      <td>6.0</td>\n",
       "      <td>10.0</td>\n",
       "      <td>12.0</td>\n",
       "      <td>15.0</td>\n",
       "      <td>18.0</td>\n",
       "    </tr>\n",
       "    <tr>\n",
       "      <th>other</th>\n",
       "      <td>367.0</td>\n",
       "      <td>11.891008</td>\n",
       "      <td>3.074503</td>\n",
       "      <td>0.0</td>\n",
       "      <td>10.0</td>\n",
       "      <td>12.0</td>\n",
       "      <td>14.0</td>\n",
       "      <td>19.0</td>\n",
       "    </tr>\n",
       "    <tr>\n",
       "      <th>services</th>\n",
       "      <td>181.0</td>\n",
       "      <td>11.629834</td>\n",
       "      <td>3.438507</td>\n",
       "      <td>0.0</td>\n",
       "      <td>10.0</td>\n",
       "      <td>12.0</td>\n",
       "      <td>14.0</td>\n",
       "      <td>18.0</td>\n",
       "    </tr>\n",
       "    <tr>\n",
       "      <th>teacher</th>\n",
       "      <td>36.0</td>\n",
       "      <td>13.583333</td>\n",
       "      <td>3.400630</td>\n",
       "      <td>0.0</td>\n",
       "      <td>12.0</td>\n",
       "      <td>14.0</td>\n",
       "      <td>16.0</td>\n",
       "      <td>19.0</td>\n",
       "    </tr>\n",
       "  </tbody>\n",
       "</table>\n",
       "</div>"
      ],
      "text/plain": [
       "          count       mean       std  min   25%   50%   75%   max\n",
       "Fjob                                                             \n",
       "at_home    42.0  11.428571  3.201698  0.0  10.0  11.0  14.0  18.0\n",
       "health     23.0  12.565217  3.130874  6.0  10.0  12.0  15.0  18.0\n",
       "other     367.0  11.891008  3.074503  0.0  10.0  12.0  14.0  19.0\n",
       "services  181.0  11.629834  3.438507  0.0  10.0  12.0  14.0  18.0\n",
       "teacher    36.0  13.583333  3.400630  0.0  12.0  14.0  16.0  19.0"
      ]
     },
     "execution_count": 138,
     "metadata": {},
     "output_type": "execute_result"
    }
   ],
   "source": [
    "df_port.groupby(\"Fjob\")[\"G3\"].describe()"
   ]
  },
  {
   "cell_type": "code",
   "execution_count": 139,
   "metadata": {},
   "outputs": [
    {
     "data": {
      "text/plain": [
       "<AxesSubplot:xlabel='Mjob', ylabel='G3'>"
      ]
     },
     "execution_count": 139,
     "metadata": {},
     "output_type": "execute_result"
    },
    {
     "data": {
      "image/png": "[encoded data removed]",
      "text/plain": [
       "<Figure size 720x432 with 1 Axes>"
      ]
     },
     "metadata": {
      "needs_background": "light"
     },
     "output_type": "display_data"
    }
   ],
   "source": [
    "plt.figure(figsize=(10,6))\n",
    "sns.boxplot(x=df_port[\"Mjob\"],y=df_port[\"G3\"])"
   ]
  },
  {
   "cell_type": "code",
   "execution_count": 140,
   "metadata": {},
   "outputs": [
    {
     "data": {
      "text/html": [
       "<div>\n",
       "<style scoped>\n",
       "    .dataframe tbody tr th:only-of-type {\n",
       "        vertical-align: middle;\n",
       "    }\n",
       "\n",
       "    .dataframe tbody tr th {\n",
       "        vertical-align: top;\n",
       "    }\n",
       "\n",
       "    .dataframe thead th {\n",
       "        text-align: right;\n",
       "    }\n",
       "</style>\n",
       "<table border=\"1\" class=\"dataframe\">\n",
       "  <thead>\n",
       "    <tr style=\"text-align: right;\">\n",
       "      <th></th>\n",
       "      <th>count</th>\n",
       "      <th>mean</th>\n",
       "      <th>std</th>\n",
       "      <th>min</th>\n",
       "      <th>25%</th>\n",
       "      <th>50%</th>\n",
       "      <th>75%</th>\n",
       "      <th>max</th>\n",
       "    </tr>\n",
       "    <tr>\n",
       "      <th>Fjob</th>\n",
       "      <th></th>\n",
       "      <th></th>\n",
       "      <th></th>\n",
       "      <th></th>\n",
       "      <th></th>\n",
       "      <th></th>\n",
       "      <th></th>\n",
       "      <th></th>\n",
       "    </tr>\n",
       "  </thead>\n",
       "  <tbody>\n",
       "    <tr>\n",
       "      <th>at_home</th>\n",
       "      <td>42.0</td>\n",
       "      <td>11.428571</td>\n",
       "      <td>3.201698</td>\n",
       "      <td>0.0</td>\n",
       "      <td>10.0</td>\n",
       "      <td>11.0</td>\n",
       "      <td>14.0</td>\n",
       "      <td>18.0</td>\n",
       "    </tr>\n",
       "    <tr>\n",
       "      <th>health</th>\n",
       "      <td>23.0</td>\n",
       "      <td>12.565217</td>\n",
       "      <td>3.130874</td>\n",
       "      <td>6.0</td>\n",
       "      <td>10.0</td>\n",
       "      <td>12.0</td>\n",
       "      <td>15.0</td>\n",
       "      <td>18.0</td>\n",
       "    </tr>\n",
       "    <tr>\n",
       "      <th>other</th>\n",
       "      <td>367.0</td>\n",
       "      <td>11.891008</td>\n",
       "      <td>3.074503</td>\n",
       "      <td>0.0</td>\n",
       "      <td>10.0</td>\n",
       "      <td>12.0</td>\n",
       "      <td>14.0</td>\n",
       "      <td>19.0</td>\n",
       "    </tr>\n",
       "    <tr>\n",
       "      <th>services</th>\n",
       "      <td>181.0</td>\n",
       "      <td>11.629834</td>\n",
       "      <td>3.438507</td>\n",
       "      <td>0.0</td>\n",
       "      <td>10.0</td>\n",
       "      <td>12.0</td>\n",
       "      <td>14.0</td>\n",
       "      <td>18.0</td>\n",
       "    </tr>\n",
       "    <tr>\n",
       "      <th>teacher</th>\n",
       "      <td>36.0</td>\n",
       "      <td>13.583333</td>\n",
       "      <td>3.400630</td>\n",
       "      <td>0.0</td>\n",
       "      <td>12.0</td>\n",
       "      <td>14.0</td>\n",
       "      <td>16.0</td>\n",
       "      <td>19.0</td>\n",
       "    </tr>\n",
       "  </tbody>\n",
       "</table>\n",
       "</div>"
      ],
      "text/plain": [
       "          count       mean       std  min   25%   50%   75%   max\n",
       "Fjob                                                             \n",
       "at_home    42.0  11.428571  3.201698  0.0  10.0  11.0  14.0  18.0\n",
       "health     23.0  12.565217  3.130874  6.0  10.0  12.0  15.0  18.0\n",
       "other     367.0  11.891008  3.074503  0.0  10.0  12.0  14.0  19.0\n",
       "services  181.0  11.629834  3.438507  0.0  10.0  12.0  14.0  18.0\n",
       "teacher    36.0  13.583333  3.400630  0.0  12.0  14.0  16.0  19.0"
      ]
     },
     "execution_count": 140,
     "metadata": {},
     "output_type": "execute_result"
    }
   ],
   "source": [
    "df_port.groupby(\"Fjob\")[\"G3\"].describe()"
   ]
  },
  {
   "cell_type": "markdown",
   "metadata": {},
   "source": [
    "Using boxplot to find the relationship between Parent's Educational Background and Students performance:"
   ]
  },
  {
   "cell_type": "code",
   "execution_count": 141,
   "metadata": {},
   "outputs": [
    {
     "data": {
      "text/plain": [
       "<AxesSubplot:xlabel='Fedu', ylabel='G3'>"
      ]
     },
     "execution_count": 141,
     "metadata": {},
     "output_type": "execute_result"
    },
    {
     "data": {
      "image/png": "[encoded data removed]",
      "text/plain": [
       "<Figure size 720x432 with 1 Axes>"
      ]
     },
     "metadata": {
      "needs_background": "light"
     },
     "output_type": "display_data"
    }
   ],
   "source": [
    "plt.figure(figsize=(10,6))\n",
    "sns.boxplot(x=df_port[\"Fedu\"],y=df_port[\"G3\"])"
   ]
  },
  {
   "cell_type": "code",
   "execution_count": 142,
   "metadata": {},
   "outputs": [
    {
     "data": {
      "text/plain": [
       "<AxesSubplot:xlabel='Medu', ylabel='G3'>"
      ]
     },
     "execution_count": 142,
     "metadata": {},
     "output_type": "execute_result"
    },
    {
     "data": {
      "image/png": "[encoded data removed]",
      "text/plain": [
       "<Figure size 720x432 with 1 Axes>"
      ]
     },
     "metadata": {
      "needs_background": "light"
     },
     "output_type": "display_data"
    }
   ],
   "source": [
    "plt.figure(figsize=(10,6))\n",
    "sns.boxplot(x=df_port[\"Medu\"],y=df_port[\"G3\"])"
   ]
  },
  {
   "cell_type": "code",
   "execution_count": 143,
   "metadata": {},
   "outputs": [
    {
     "data": {
      "text/plain": [
       "<AxesSubplot:xlabel='sex', ylabel='G3'>"
      ]
     },
     "execution_count": 143,
     "metadata": {},
     "output_type": "execute_result"
    },
    {
     "data": {
      "image/png": "[encoded data removed]",
      "text/plain": [
       "<Figure size 432x288 with 1 Axes>"
      ]
     },
     "metadata": {
      "needs_background": "light"
     },
     "output_type": "display_data"
    }
   ],
   "source": [
    "plt.figure(figsize=(6,4))\n",
    "sns.boxplot(x=df_port[\"sex\"],y=df_port[\"G3\"])"
   ]
  },
  {
   "cell_type": "code",
   "execution_count": 144,
   "metadata": {},
   "outputs": [
    {
     "data": {
      "text/html": [
       "<div>\n",
       "<style scoped>\n",
       "    .dataframe tbody tr th:only-of-type {\n",
       "        vertical-align: middle;\n",
       "    }\n",
       "\n",
       "    .dataframe tbody tr th {\n",
       "        vertical-align: top;\n",
       "    }\n",
       "\n",
       "    .dataframe thead th {\n",
       "        text-align: right;\n",
       "    }\n",
       "</style>\n",
       "<table border=\"1\" class=\"dataframe\">\n",
       "  <thead>\n",
       "    <tr style=\"text-align: right;\">\n",
       "      <th></th>\n",
       "      <th>count</th>\n",
       "      <th>mean</th>\n",
       "      <th>std</th>\n",
       "      <th>min</th>\n",
       "      <th>25%</th>\n",
       "      <th>50%</th>\n",
       "      <th>75%</th>\n",
       "      <th>max</th>\n",
       "    </tr>\n",
       "    <tr>\n",
       "      <th>sex</th>\n",
       "      <th></th>\n",
       "      <th></th>\n",
       "      <th></th>\n",
       "      <th></th>\n",
       "      <th></th>\n",
       "      <th></th>\n",
       "      <th></th>\n",
       "      <th></th>\n",
       "    </tr>\n",
       "  </thead>\n",
       "  <tbody>\n",
       "    <tr>\n",
       "      <th>F</th>\n",
       "      <td>383.0</td>\n",
       "      <td>12.253264</td>\n",
       "      <td>3.124147</td>\n",
       "      <td>0.0</td>\n",
       "      <td>10.0</td>\n",
       "      <td>12.0</td>\n",
       "      <td>14.0</td>\n",
       "      <td>19.0</td>\n",
       "    </tr>\n",
       "    <tr>\n",
       "      <th>M</th>\n",
       "      <td>266.0</td>\n",
       "      <td>11.406015</td>\n",
       "      <td>3.320690</td>\n",
       "      <td>0.0</td>\n",
       "      <td>10.0</td>\n",
       "      <td>11.0</td>\n",
       "      <td>13.0</td>\n",
       "      <td>19.0</td>\n",
       "    </tr>\n",
       "  </tbody>\n",
       "</table>\n",
       "</div>"
      ],
      "text/plain": [
       "     count       mean       std  min   25%   50%   75%   max\n",
       "sex                                                         \n",
       "F    383.0  12.253264  3.124147  0.0  10.0  12.0  14.0  19.0\n",
       "M    266.0  11.406015  3.320690  0.0  10.0  11.0  13.0  19.0"
      ]
     },
     "execution_count": 144,
     "metadata": {},
     "output_type": "execute_result"
    }
   ],
   "source": [
    "df_port.groupby(\"sex\")[\"G3\"].describe()"
   ]
  },
  {
   "cell_type": "code",
   "execution_count": 145,
   "metadata": {},
   "outputs": [
    {
     "data": {
      "text/plain": [
       "<AxesSubplot:xlabel='studytime', ylabel='G3'>"
      ]
     },
     "execution_count": 145,
     "metadata": {},
     "output_type": "execute_result"
    },
    {
     "data": {
      "image/png": "[encoded data removed]",
      "text/plain": [
       "<Figure size 720x432 with 1 Axes>"
      ]
     },
     "metadata": {
      "needs_background": "light"
     },
     "output_type": "display_data"
    }
   ],
   "source": [
    "plt.figure(figsize=(10,6))\n",
    "sns.boxplot(x=df_port[\"studytime\"],y=df_port[\"G3\"])"
   ]
  },
  {
   "cell_type": "code",
   "execution_count": 146,
   "metadata": {},
   "outputs": [
    {
     "data": {
      "text/plain": [
       "2    305\n",
       "1    212\n",
       "3     97\n",
       "4     35\n",
       "Name: studytime, dtype: int64"
      ]
     },
     "execution_count": 146,
     "metadata": {},
     "output_type": "execute_result"
    }
   ],
   "source": [
    "df_port[\"studytime\"].value_counts()"
   ]
  },
  {
   "cell_type": "markdown",
   "metadata": {},
   "source": [
    "Correlation between final score and other values:"
   ]
  },
  {
   "cell_type": "code",
   "execution_count": 147,
   "metadata": {},
   "outputs": [
    {
     "data": {
      "text/plain": [
       "failures     -0.393316\n",
       "Dalc         -0.204719\n",
       "Walc         -0.176619\n",
       "traveltime   -0.127173\n",
       "freetime     -0.122705\n",
       "age          -0.106505\n",
       "health       -0.098851\n",
       "absences     -0.091379\n",
       "goout        -0.087641\n",
       "famrel        0.063361\n",
       "Fedu          0.211800\n",
       "Medu          0.240151\n",
       "studytime     0.249789\n",
       "G1            0.826387\n",
       "G2            0.918548\n",
       "Name: G3, dtype: float64"
      ]
     },
     "execution_count": 147,
     "metadata": {},
     "output_type": "execute_result"
    }
   ],
   "source": [
    "df_num_corr = df_num.corr()[\"G3\"][:-1]\n",
    "df_num_corr.sort_values(ascending=True)"
   ]
  },
  {
   "cell_type": "code",
   "execution_count": 148,
   "metadata": {},
   "outputs": [
    {
     "name": "stdout",
     "output_type": "stream",
     "text": [
      "Top 10 features strongly correlated with final_target: \n",
      "G2            0.918548\n",
      "G1            0.826387\n",
      "studytime     0.249789\n",
      "Medu          0.240151\n",
      "Fedu          0.211800\n",
      "freetime     -0.122705\n",
      "traveltime   -0.127173\n",
      "Walc         -0.176619\n",
      "Dalc         -0.204719\n",
      "failures     -0.393316\n",
      "Name: G3, dtype: float64\n"
     ]
    }
   ],
   "source": [
    "top_list = df_num_corr[abs(df_num_corr)>0.12].sort_values(ascending=False)\n",
    "print(\"Top {} features strongly correlated with final_target: \\n{}\".format(len(top_list), top_list))"
   ]
  },
  {
   "cell_type": "code",
   "execution_count": 149,
   "metadata": {},
   "outputs": [
    {
     "data": {
      "text/plain": [
       "<AxesSubplot:>"
      ]
     },
     "execution_count": 149,
     "metadata": {},
     "output_type": "execute_result"
    },
    {
     "data": {
      "image/png": "[encoded data removed]",
      "text/plain": [
       "<Figure size 1152x648 with 2 Axes>"
      ]
     },
     "metadata": {
      "needs_background": "light"
     },
     "output_type": "display_data"
    }
   ],
   "source": [
    "plt.figure(figsize=(16,9))\n",
    "sns.heatmap(df_num.corr(),annot = True)"
   ]
  },
  {
   "cell_type": "markdown",
   "metadata": {},
   "source": [
    "------------------------------------------------------------------------------------------------------------------------"
   ]
  },
  {
   "cell_type": "markdown",
   "metadata": {},
   "source": [
    "Split the data:"
   ]
  },
  {
   "cell_type": "code",
   "execution_count": 150,
   "metadata": {},
   "outputs": [],
   "source": [
    "from sklearn.model_selection import train_test_split\n",
    "\n",
    "train_set, test_set = train_test_split(df_port, test_size=0.2, random_state=42)"
   ]
  },
  {
   "cell_type": "code",
   "execution_count": 151,
   "metadata": {},
   "outputs": [
    {
     "name": "stdout",
     "output_type": "stream",
     "text": [
      "Training data shape: (519, 33)\n",
      "Testing data shape: (130, 33)\n"
     ]
    }
   ],
   "source": [
    "print(\"Training data shape:\",train_set.shape)\n",
    "print(\"Testing data shape:\", test_set.shape)"
   ]
  },
  {
   "cell_type": "code",
   "execution_count": 152,
   "metadata": {},
   "outputs": [],
   "source": [
    "train_targets = train_set.pop(\"G3\")\n",
    "test_targets = test_set.pop(\"G3\")"
   ]
  },
  {
   "cell_type": "markdown",
   "metadata": {},
   "source": [
    "The distribution of the full dataset, training set & testing set."
   ]
  },
  {
   "cell_type": "code",
   "execution_count": 153,
   "metadata": {},
   "outputs": [
    {
     "data": {
      "image/png": "[encoded data removed]",
      "text/plain": [
       "<Figure size 864x432 with 3 Axes>"
      ]
     },
     "metadata": {
      "needs_background": "light"
     },
     "output_type": "display_data"
    }
   ],
   "source": [
    "plt.figure(figsize=(12,6))\n",
    "plt.subplot(1, 3, 1)\n",
    "sns.distplot(df_port[\"G3\"],color = \"g\", bins = 10);\n",
    "plt.subplot(1, 3, 2)\n",
    "sns.distplot(train_targets,color = \"g\", bins = 10);\n",
    "plt.subplot(1, 3, 3)\n",
    "sns.distplot(test_targets,color = \"g\", bins = 10);"
   ]
  },
  {
   "cell_type": "code",
   "execution_count": 154,
   "metadata": {},
   "outputs": [
    {
     "name": "stdout",
     "output_type": "stream",
     "text": [
      "<class 'pandas.core.frame.DataFrame'>\n",
      "Int64Index: 519 entries, 332 to 102\n",
      "Data columns (total 32 columns):\n",
      " #   Column      Non-Null Count  Dtype \n",
      "---  ------      --------------  ----- \n",
      " 0   school      519 non-null    object\n",
      " 1   sex         519 non-null    object\n",
      " 2   age         519 non-null    int64 \n",
      " 3   address     519 non-null    object\n",
      " 4   famsize     519 non-null    object\n",
      " 5   Pstatus     519 non-null    object\n",
      " 6   Medu        519 non-null    int64 \n",
      " 7   Fedu        519 non-null    int64 \n",
      " 8   Mjob        519 non-null    object\n",
      " 9   Fjob        519 non-null    object\n",
      " 10  reason      519 non-null    object\n",
      " 11  guardian    519 non-null    object\n",
      " 12  traveltime  519 non-null    int64 \n",
      " 13  studytime   519 non-null    int64 \n",
      " 14  failures    519 non-null    int64 \n",
      " 15  schoolsup   519 non-null    object\n",
      " 16  famsup      519 non-null    object\n",
      " 17  paid        519 non-null    object\n",
      " 18  activities  519 non-null    object\n",
      " 19  nursery     519 non-null    object\n",
      " 20  higher      519 non-null    object\n",
      " 21  internet    519 non-null    object\n",
      " 22  romantic    519 non-null    object\n",
      " 23  famrel      519 non-null    int64 \n",
      " 24  freetime    519 non-null    int64 \n",
      " 25  goout       519 non-null    int64 \n",
      " 26  Dalc        519 non-null    int64 \n",
      " 27  Walc        519 non-null    int64 \n",
      " 28  health      519 non-null    int64 \n",
      " 29  absences    519 non-null    int64 \n",
      " 30  G1          519 non-null    int64 \n",
      " 31  G2          519 non-null    int64 \n",
      "dtypes: int64(15), object(17)\n",
      "memory usage: 133.8+ KB\n"
     ]
    }
   ],
   "source": [
    "train_set.info()"
   ]
  },
  {
   "cell_type": "code",
   "execution_count": 155,
   "metadata": {},
   "outputs": [
    {
     "name": "stdout",
     "output_type": "stream",
     "text": [
      "<class 'pandas.core.frame.DataFrame'>\n",
      "Int64Index: 130 entries, 636 to 601\n",
      "Data columns (total 32 columns):\n",
      " #   Column      Non-Null Count  Dtype \n",
      "---  ------      --------------  ----- \n",
      " 0   school      130 non-null    object\n",
      " 1   sex         130 non-null    object\n",
      " 2   age         130 non-null    int64 \n",
      " 3   address     130 non-null    object\n",
      " 4   famsize     130 non-null    object\n",
      " 5   Pstatus     130 non-null    object\n",
      " 6   Medu        130 non-null    int64 \n",
      " 7   Fedu        130 non-null    int64 \n",
      " 8   Mjob        130 non-null    object\n",
      " 9   Fjob        130 non-null    object\n",
      " 10  reason      130 non-null    object\n",
      " 11  guardian    130 non-null    object\n",
      " 12  traveltime  130 non-null    int64 \n",
      " 13  studytime   130 non-null    int64 \n",
      " 14  failures    130 non-null    int64 \n",
      " 15  schoolsup   130 non-null    object\n",
      " 16  famsup      130 non-null    object\n",
      " 17  paid        130 non-null    object\n",
      " 18  activities  130 non-null    object\n",
      " 19  nursery     130 non-null    object\n",
      " 20  higher      130 non-null    object\n",
      " 21  internet    130 non-null    object\n",
      " 22  romantic    130 non-null    object\n",
      " 23  famrel      130 non-null    int64 \n",
      " 24  freetime    130 non-null    int64 \n",
      " 25  goout       130 non-null    int64 \n",
      " 26  Dalc        130 non-null    int64 \n",
      " 27  Walc        130 non-null    int64 \n",
      " 28  health      130 non-null    int64 \n",
      " 29  absences    130 non-null    int64 \n",
      " 30  G1          130 non-null    int64 \n",
      " 31  G2          130 non-null    int64 \n",
      "dtypes: int64(15), object(17)\n",
      "memory usage: 33.5+ KB\n"
     ]
    }
   ],
   "source": [
    "test_set.info()"
   ]
  },
  {
   "cell_type": "code",
   "execution_count": 156,
   "metadata": {},
   "outputs": [
    {
     "data": {
      "text/plain": [
       "yes    415\n",
       "no     104\n",
       "Name: nursery, dtype: int64"
      ]
     },
     "execution_count": 156,
     "metadata": {},
     "output_type": "execute_result"
    }
   ],
   "source": [
    "train_set[\"nursery\"].value_counts()"
   ]
  },
  {
   "cell_type": "code",
   "execution_count": 157,
   "metadata": {},
   "outputs": [
    {
     "data": {
      "text/html": [
       "<div>\n",
       "<style scoped>\n",
       "    .dataframe tbody tr th:only-of-type {\n",
       "        vertical-align: middle;\n",
       "    }\n",
       "\n",
       "    .dataframe tbody tr th {\n",
       "        vertical-align: top;\n",
       "    }\n",
       "\n",
       "    .dataframe thead th {\n",
       "        text-align: right;\n",
       "    }\n",
       "</style>\n",
       "<table border=\"1\" class=\"dataframe\">\n",
       "  <thead>\n",
       "    <tr style=\"text-align: right;\">\n",
       "      <th></th>\n",
       "      <th>count</th>\n",
       "      <th>mean</th>\n",
       "      <th>std</th>\n",
       "      <th>min</th>\n",
       "      <th>25%</th>\n",
       "      <th>50%</th>\n",
       "      <th>75%</th>\n",
       "      <th>max</th>\n",
       "    </tr>\n",
       "    <tr>\n",
       "      <th>nursery</th>\n",
       "      <th></th>\n",
       "      <th></th>\n",
       "      <th></th>\n",
       "      <th></th>\n",
       "      <th></th>\n",
       "      <th></th>\n",
       "      <th></th>\n",
       "      <th></th>\n",
       "    </tr>\n",
       "  </thead>\n",
       "  <tbody>\n",
       "    <tr>\n",
       "      <th>no</th>\n",
       "      <td>128.0</td>\n",
       "      <td>11.718750</td>\n",
       "      <td>3.006391</td>\n",
       "      <td>0.0</td>\n",
       "      <td>10.0</td>\n",
       "      <td>11.0</td>\n",
       "      <td>13.0</td>\n",
       "      <td>19.0</td>\n",
       "    </tr>\n",
       "    <tr>\n",
       "      <th>yes</th>\n",
       "      <td>521.0</td>\n",
       "      <td>11.952015</td>\n",
       "      <td>3.284521</td>\n",
       "      <td>0.0</td>\n",
       "      <td>10.0</td>\n",
       "      <td>12.0</td>\n",
       "      <td>14.0</td>\n",
       "      <td>19.0</td>\n",
       "    </tr>\n",
       "  </tbody>\n",
       "</table>\n",
       "</div>"
      ],
      "text/plain": [
       "         count       mean       std  min   25%   50%   75%   max\n",
       "nursery                                                         \n",
       "no       128.0  11.718750  3.006391  0.0  10.0  11.0  13.0  19.0\n",
       "yes      521.0  11.952015  3.284521  0.0  10.0  12.0  14.0  19.0"
      ]
     },
     "execution_count": 157,
     "metadata": {},
     "output_type": "execute_result"
    }
   ],
   "source": [
    "df_port.groupby(\"nursery\")[\"G3\"].describe()"
   ]
  },
  {
   "cell_type": "markdown",
   "metadata": {},
   "source": [
    "Removing all non-numerical data:"
   ]
  },
  {
   "cell_type": "code",
   "execution_count": 158,
   "metadata": {},
   "outputs": [
    {
     "data": {
      "text/html": [
       "<div>\n",
       "<style scoped>\n",
       "    .dataframe tbody tr th:only-of-type {\n",
       "        vertical-align: middle;\n",
       "    }\n",
       "\n",
       "    .dataframe tbody tr th {\n",
       "        vertical-align: top;\n",
       "    }\n",
       "\n",
       "    .dataframe thead th {\n",
       "        text-align: right;\n",
       "    }\n",
       "</style>\n",
       "<table border=\"1\" class=\"dataframe\">\n",
       "  <thead>\n",
       "    <tr style=\"text-align: right;\">\n",
       "      <th></th>\n",
       "      <th>age</th>\n",
       "      <th>Medu</th>\n",
       "      <th>Fedu</th>\n",
       "      <th>traveltime</th>\n",
       "      <th>studytime</th>\n",
       "      <th>failures</th>\n",
       "      <th>famrel</th>\n",
       "      <th>freetime</th>\n",
       "      <th>goout</th>\n",
       "      <th>Dalc</th>\n",
       "      <th>Walc</th>\n",
       "      <th>health</th>\n",
       "      <th>absences</th>\n",
       "      <th>G1</th>\n",
       "      <th>G2</th>\n",
       "    </tr>\n",
       "  </thead>\n",
       "  <tbody>\n",
       "    <tr>\n",
       "      <th>332</th>\n",
       "      <td>18</td>\n",
       "      <td>2</td>\n",
       "      <td>2</td>\n",
       "      <td>1</td>\n",
       "      <td>3</td>\n",
       "      <td>0</td>\n",
       "      <td>4</td>\n",
       "      <td>3</td>\n",
       "      <td>3</td>\n",
       "      <td>1</td>\n",
       "      <td>2</td>\n",
       "      <td>2</td>\n",
       "      <td>0</td>\n",
       "      <td>18</td>\n",
       "      <td>18</td>\n",
       "    </tr>\n",
       "    <tr>\n",
       "      <th>29</th>\n",
       "      <td>16</td>\n",
       "      <td>4</td>\n",
       "      <td>4</td>\n",
       "      <td>1</td>\n",
       "      <td>2</td>\n",
       "      <td>0</td>\n",
       "      <td>4</td>\n",
       "      <td>4</td>\n",
       "      <td>5</td>\n",
       "      <td>5</td>\n",
       "      <td>5</td>\n",
       "      <td>5</td>\n",
       "      <td>4</td>\n",
       "      <td>12</td>\n",
       "      <td>11</td>\n",
       "    </tr>\n",
       "    <tr>\n",
       "      <th>302</th>\n",
       "      <td>18</td>\n",
       "      <td>3</td>\n",
       "      <td>2</td>\n",
       "      <td>1</td>\n",
       "      <td>3</td>\n",
       "      <td>0</td>\n",
       "      <td>5</td>\n",
       "      <td>3</td>\n",
       "      <td>2</td>\n",
       "      <td>1</td>\n",
       "      <td>1</td>\n",
       "      <td>3</td>\n",
       "      <td>2</td>\n",
       "      <td>10</td>\n",
       "      <td>11</td>\n",
       "    </tr>\n",
       "    <tr>\n",
       "      <th>286</th>\n",
       "      <td>17</td>\n",
       "      <td>2</td>\n",
       "      <td>1</td>\n",
       "      <td>1</td>\n",
       "      <td>1</td>\n",
       "      <td>0</td>\n",
       "      <td>4</td>\n",
       "      <td>4</td>\n",
       "      <td>2</td>\n",
       "      <td>2</td>\n",
       "      <td>4</td>\n",
       "      <td>5</td>\n",
       "      <td>0</td>\n",
       "      <td>12</td>\n",
       "      <td>12</td>\n",
       "    </tr>\n",
       "    <tr>\n",
       "      <th>554</th>\n",
       "      <td>17</td>\n",
       "      <td>1</td>\n",
       "      <td>1</td>\n",
       "      <td>2</td>\n",
       "      <td>1</td>\n",
       "      <td>0</td>\n",
       "      <td>3</td>\n",
       "      <td>5</td>\n",
       "      <td>5</td>\n",
       "      <td>2</td>\n",
       "      <td>2</td>\n",
       "      <td>4</td>\n",
       "      <td>3</td>\n",
       "      <td>10</td>\n",
       "      <td>11</td>\n",
       "    </tr>\n",
       "  </tbody>\n",
       "</table>\n",
       "</div>"
      ],
      "text/plain": [
       "     age  Medu  Fedu  traveltime  studytime  failures  famrel  freetime  \\\n",
       "332   18     2     2           1          3         0       4         3   \n",
       "29    16     4     4           1          2         0       4         4   \n",
       "302   18     3     2           1          3         0       5         3   \n",
       "286   17     2     1           1          1         0       4         4   \n",
       "554   17     1     1           2          1         0       3         5   \n",
       "\n",
       "     goout  Dalc  Walc  health  absences  G1  G2  \n",
       "332      3     1     2       2         0  18  18  \n",
       "29       5     5     5       5         4  12  11  \n",
       "302      2     1     1       3         2  10  11  \n",
       "286      2     2     4       5         0  12  12  \n",
       "554      5     2     2       4         3  10  11  "
      ]
     },
     "execution_count": 158,
     "metadata": {},
     "output_type": "execute_result"
    }
   ],
   "source": [
    "train_set_num = train_set.select_dtypes(include = [\"int64\"])\n",
    "train_set_num.head()"
   ]
  },
  {
   "cell_type": "code",
   "execution_count": 159,
   "metadata": {},
   "outputs": [
    {
     "data": {
      "text/html": [
       "<div>\n",
       "<style scoped>\n",
       "    .dataframe tbody tr th:only-of-type {\n",
       "        vertical-align: middle;\n",
       "    }\n",
       "\n",
       "    .dataframe tbody tr th {\n",
       "        vertical-align: top;\n",
       "    }\n",
       "\n",
       "    .dataframe thead th {\n",
       "        text-align: right;\n",
       "    }\n",
       "</style>\n",
       "<table border=\"1\" class=\"dataframe\">\n",
       "  <thead>\n",
       "    <tr style=\"text-align: right;\">\n",
       "      <th></th>\n",
       "      <th>age</th>\n",
       "      <th>Medu</th>\n",
       "      <th>Fedu</th>\n",
       "      <th>traveltime</th>\n",
       "      <th>studytime</th>\n",
       "      <th>failures</th>\n",
       "      <th>famrel</th>\n",
       "      <th>freetime</th>\n",
       "      <th>goout</th>\n",
       "      <th>Dalc</th>\n",
       "      <th>Walc</th>\n",
       "      <th>health</th>\n",
       "      <th>absences</th>\n",
       "      <th>G1</th>\n",
       "      <th>G2</th>\n",
       "    </tr>\n",
       "  </thead>\n",
       "  <tbody>\n",
       "    <tr>\n",
       "      <th>636</th>\n",
       "      <td>18</td>\n",
       "      <td>4</td>\n",
       "      <td>4</td>\n",
       "      <td>1</td>\n",
       "      <td>2</td>\n",
       "      <td>0</td>\n",
       "      <td>3</td>\n",
       "      <td>2</td>\n",
       "      <td>4</td>\n",
       "      <td>1</td>\n",
       "      <td>4</td>\n",
       "      <td>2</td>\n",
       "      <td>4</td>\n",
       "      <td>17</td>\n",
       "      <td>18</td>\n",
       "    </tr>\n",
       "    <tr>\n",
       "      <th>220</th>\n",
       "      <td>16</td>\n",
       "      <td>3</td>\n",
       "      <td>1</td>\n",
       "      <td>1</td>\n",
       "      <td>2</td>\n",
       "      <td>0</td>\n",
       "      <td>2</td>\n",
       "      <td>3</td>\n",
       "      <td>3</td>\n",
       "      <td>2</td>\n",
       "      <td>2</td>\n",
       "      <td>4</td>\n",
       "      <td>2</td>\n",
       "      <td>11</td>\n",
       "      <td>11</td>\n",
       "    </tr>\n",
       "    <tr>\n",
       "      <th>594</th>\n",
       "      <td>18</td>\n",
       "      <td>4</td>\n",
       "      <td>4</td>\n",
       "      <td>2</td>\n",
       "      <td>2</td>\n",
       "      <td>0</td>\n",
       "      <td>4</td>\n",
       "      <td>3</td>\n",
       "      <td>5</td>\n",
       "      <td>1</td>\n",
       "      <td>2</td>\n",
       "      <td>1</td>\n",
       "      <td>0</td>\n",
       "      <td>18</td>\n",
       "      <td>18</td>\n",
       "    </tr>\n",
       "    <tr>\n",
       "      <th>429</th>\n",
       "      <td>16</td>\n",
       "      <td>4</td>\n",
       "      <td>4</td>\n",
       "      <td>1</td>\n",
       "      <td>2</td>\n",
       "      <td>0</td>\n",
       "      <td>5</td>\n",
       "      <td>3</td>\n",
       "      <td>2</td>\n",
       "      <td>1</td>\n",
       "      <td>3</td>\n",
       "      <td>2</td>\n",
       "      <td>5</td>\n",
       "      <td>10</td>\n",
       "      <td>11</td>\n",
       "    </tr>\n",
       "    <tr>\n",
       "      <th>72</th>\n",
       "      <td>15</td>\n",
       "      <td>1</td>\n",
       "      <td>1</td>\n",
       "      <td>1</td>\n",
       "      <td>2</td>\n",
       "      <td>0</td>\n",
       "      <td>3</td>\n",
       "      <td>3</td>\n",
       "      <td>4</td>\n",
       "      <td>2</td>\n",
       "      <td>4</td>\n",
       "      <td>5</td>\n",
       "      <td>2</td>\n",
       "      <td>13</td>\n",
       "      <td>11</td>\n",
       "    </tr>\n",
       "  </tbody>\n",
       "</table>\n",
       "</div>"
      ],
      "text/plain": [
       "     age  Medu  Fedu  traveltime  studytime  failures  famrel  freetime  \\\n",
       "636   18     4     4           1          2         0       3         2   \n",
       "220   16     3     1           1          2         0       2         3   \n",
       "594   18     4     4           2          2         0       4         3   \n",
       "429   16     4     4           1          2         0       5         3   \n",
       "72    15     1     1           1          2         0       3         3   \n",
       "\n",
       "     goout  Dalc  Walc  health  absences  G1  G2  \n",
       "636      4     1     4       2         4  17  18  \n",
       "220      3     2     2       4         2  11  11  \n",
       "594      5     1     2       1         0  18  18  \n",
       "429      2     1     3       2         5  10  11  \n",
       "72       4     2     4       5         2  13  11  "
      ]
     },
     "execution_count": 159,
     "metadata": {},
     "output_type": "execute_result"
    }
   ],
   "source": [
    "test_set_num = test_set.select_dtypes(include = [\"int64\"])\n",
    "test_set_num.head()"
   ]
  },
  {
   "cell_type": "markdown",
   "metadata": {},
   "source": [
    "## Regression Model."
   ]
  },
  {
   "cell_type": "code",
   "execution_count": 160,
   "metadata": {},
   "outputs": [],
   "source": [
    "from sklearn.linear_model import LinearRegression\n",
    "lin_reg = LinearRegression()\n",
    "lin_reg.fit(train_set_num, train_targets);"
   ]
  },
  {
   "cell_type": "markdown",
   "metadata": {},
   "source": [
    "Testing the Linear regression model on the Training set:"
   ]
  },
  {
   "cell_type": "code",
   "execution_count": 161,
   "metadata": {},
   "outputs": [
    {
     "name": "stdout",
     "output_type": "stream",
     "text": [
      "Predictions:\t [18.91622451 11.13658495 11.17022323 12.06530043 11.08617028]\n",
      "Labels:\t\t [18, 12, 12, 13, 10]\n"
     ]
    }
   ],
   "source": [
    "print(\"Predictions:\\t\", lin_reg.predict(train_set_num[:5]))\n",
    "print(\"Labels:\\t\\t\", list(train_targets[:5]))"
   ]
  },
  {
   "cell_type": "markdown",
   "metadata": {},
   "source": [
    "Calculating the Error of the Training set:"
   ]
  },
  {
   "cell_type": "code",
   "execution_count": 162,
   "metadata": {},
   "outputs": [
    {
     "name": "stdout",
     "output_type": "stream",
     "text": [
      "The Mean_Squared_Error is 1.2630655715243557\n"
     ]
    }
   ],
   "source": [
    "import numpy as np\n",
    "from sklearn.metrics import mean_squared_error\n",
    "\n",
    "pred = lin_reg.predict(train_set_num)\n",
    "lin_mse = mean_squared_error(train_targets,pred,squared=False)\n",
    "\n",
    "print(\"The Mean_Squared_Error is\",lin_mse)"
   ]
  },
  {
   "cell_type": "markdown",
   "metadata": {},
   "source": [
    "Testing the Linear regression model on the Testing set:"
   ]
  },
  {
   "cell_type": "code",
   "execution_count": 163,
   "metadata": {},
   "outputs": [
    {
     "name": "stdout",
     "output_type": "stream",
     "text": [
      "Predictions:\t [18.84952548 11.2975934  18.87708955 11.15359062 11.75660215]\n",
      "Labels:\t\t [19, 12, 18, 11, 11]\n"
     ]
    }
   ],
   "source": [
    "print(\"Predictions:\\t\", lin_reg.predict(test_set_num[:5]))\n",
    "print(\"Labels:\\t\\t\", list(test_targets[:5]))"
   ]
  },
  {
   "cell_type": "markdown",
   "metadata": {},
   "source": [
    "Calculating the Error of the testing set:"
   ]
  },
  {
   "cell_type": "code",
   "execution_count": 164,
   "metadata": {},
   "outputs": [
    {
     "name": "stdout",
     "output_type": "stream",
     "text": [
      "The Mean_Squared_Error is 1.1664402826147435\n"
     ]
    }
   ],
   "source": [
    "pred = lin_reg.predict(test_set_num)\n",
    "lin_mse = mean_squared_error(test_targets ,pred,squared=False)\n",
    "\n",
    "print(\"The Mean_Squared_Error is\",lin_mse)"
   ]
  },
  {
   "cell_type": "code",
   "execution_count": 165,
   "metadata": {},
   "outputs": [
    {
     "data": {
      "text/plain": [
       "Text(0, 0.5, 'Predictions')"
      ]
     },
     "execution_count": 165,
     "metadata": {},
     "output_type": "execute_result"
    },
    {
     "data": {
      "image/png": "[encoded data removed]",
      "text/plain": [
       "<Figure size 432x288 with 1 Axes>"
      ]
     },
     "metadata": {
      "needs_background": "light"
     },
     "output_type": "display_data"
    }
   ],
   "source": [
    "#a = plt.axes(aspect='equal')\n",
    "plt.scatter(test_targets, pred)\n",
    "plt.xlabel('True Values')\n",
    "plt.ylabel('Predictions')"
   ]
  },
  {
   "cell_type": "markdown",
   "metadata": {},
   "source": [
    "Using Cross validation:"
   ]
  },
  {
   "cell_type": "code",
   "execution_count": 166,
   "metadata": {},
   "outputs": [],
   "source": [
    "from sklearn.model_selection import cross_val_score\n",
    "\n",
    "def display_scores(scores):\n",
    "    print(\"Scores:\", scores)\n",
    "    print(\"Mean:\", scores.mean())\n",
    "    print(\"Standard deviation:\", scores.std())"
   ]
  },
  {
   "cell_type": "code",
   "execution_count": 167,
   "metadata": {},
   "outputs": [
    {
     "name": "stdout",
     "output_type": "stream",
     "text": [
      "Scores: [1.23674937 1.7730131  1.30612463 1.08704266 0.97499901]\n",
      "Mean: 1.2755857562607866\n",
      "Standard deviation: 0.27414439232619836\n"
     ]
    }
   ],
   "source": [
    "lin_scores = cross_val_score(lin_reg, train_set_num, train_targets, scoring=\"neg_mean_squared_error\", cv=5)\n",
    "scores = np.sqrt(-lin_scores)\n",
    "display_scores(scores)"
   ]
  },
  {
   "cell_type": "markdown",
   "metadata": {},
   "source": [
    "<hr>"
   ]
  },
  {
   "cell_type": "markdown",
   "metadata": {},
   "source": [
    "Using Decision Tree:"
   ]
  },
  {
   "cell_type": "code",
   "execution_count": 168,
   "metadata": {},
   "outputs": [],
   "source": [
    "from sklearn.tree import DecisionTreeRegressor\n",
    "\n",
    "tree_reg = DecisionTreeRegressor()\n",
    "tree_reg.fit(train_set_num, train_targets);"
   ]
  },
  {
   "cell_type": "markdown",
   "metadata": {},
   "source": [
    "Testing the Decision tree model on the Training set:"
   ]
  },
  {
   "cell_type": "code",
   "execution_count": 169,
   "metadata": {},
   "outputs": [
    {
     "name": "stdout",
     "output_type": "stream",
     "text": [
      "Predictions:\t [18. 12. 12. 13. 10.]\n",
      "Labels:\t\t [18, 12, 12, 13, 10]\n"
     ]
    }
   ],
   "source": [
    "print(\"Predictions:\\t\", tree_reg.predict(train_set_num[:5]))\n",
    "print(\"Labels:\\t\\t\", list(train_targets[:5]))"
   ]
  },
  {
   "cell_type": "markdown",
   "metadata": {},
   "source": [
    "Calculating the Error of the Training set:"
   ]
  },
  {
   "cell_type": "code",
   "execution_count": 170,
   "metadata": {},
   "outputs": [
    {
     "name": "stdout",
     "output_type": "stream",
     "text": [
      "The Root_Mean_Squared_Error is 0.0\n"
     ]
    }
   ],
   "source": [
    "pred = tree_reg.predict(train_set_num)\n",
    "tree_mse = mean_squared_error(train_targets, pred,squared=False)\n",
    "print(\"The Root_Mean_Squared_Error is\",tree_mse)"
   ]
  },
  {
   "cell_type": "markdown",
   "metadata": {},
   "source": [
    "Testing the Decision tree model on the Testing set:"
   ]
  },
  {
   "cell_type": "code",
   "execution_count": 171,
   "metadata": {},
   "outputs": [
    {
     "name": "stdout",
     "output_type": "stream",
     "text": [
      "Predictions:\t [17. 11. 17. 11. 11.]\n",
      "Labels:\t\t [19, 12, 18, 11, 11]\n"
     ]
    }
   ],
   "source": [
    "print(\"Predictions:\\t\", tree_reg.predict(test_set_num[:5]))\n",
    "print(\"Labels:\\t\\t\", list(test_targets[:5]))"
   ]
  },
  {
   "cell_type": "code",
   "execution_count": 172,
   "metadata": {},
   "outputs": [
    {
     "name": "stdout",
     "output_type": "stream",
     "text": [
      "The Root_Mean_Squared_Error is 1.9826167634641927\n"
     ]
    }
   ],
   "source": [
    "pred = tree_reg.predict(test_set_num)\n",
    "tree_mse = mean_squared_error(test_targets, pred,squared=False)\n",
    "#tree_rmse = np.sqrt(tree_mse)\n",
    "print(\"The Root_Mean_Squared_Error is\",tree_mse)"
   ]
  },
  {
   "cell_type": "code",
   "execution_count": 173,
   "metadata": {},
   "outputs": [
    {
     "data": {
      "text/plain": [
       "Text(0, 0.5, 'Predictions')"
      ]
     },
     "execution_count": 173,
     "metadata": {},
     "output_type": "execute_result"
    },
    {
     "data": {
      "image/png": "[encoded data removed]",
      "text/plain": [
       "<Figure size 432x288 with 1 Axes>"
      ]
     },
     "metadata": {
      "needs_background": "light"
     },
     "output_type": "display_data"
    }
   ],
   "source": [
    "plt.scatter(test_targets, test_predictions)\n",
    "plt.xlabel('True Values')\n",
    "plt.ylabel('Predictions')"
   ]
  },
  {
   "cell_type": "markdown",
   "metadata": {},
   "source": [
    "Using Cross Validation:"
   ]
  },
  {
   "cell_type": "code",
   "execution_count": 86,
   "metadata": {},
   "outputs": [],
   "source": [
    "tree_scores = cross_val_score(tree_reg, train_set_num, train_targets, scoring=\"neg_mean_squared_error\", cv=10)\n",
    "scores = np.sqrt(-tree_scores)"
   ]
  },
  {
   "cell_type": "code",
   "execution_count": 87,
   "metadata": {},
   "outputs": [
    {
     "name": "stdout",
     "output_type": "stream",
     "text": [
      "Scores: [2.40991542 1.55662356 3.07283382 2.29966553 1.6583124  2.6961511\n",
      " 2.63117406 1.80277564 1.55043418 1.44167658]\n",
      "Mean: 2.111956228860046\n",
      "Standard deviation: 0.5506843518780821\n"
     ]
    }
   ],
   "source": [
    "display_scores(scores)"
   ]
  },
  {
   "cell_type": "markdown",
   "metadata": {},
   "source": [
    "Using Nueral Networks:"
   ]
  },
  {
   "cell_type": "code",
   "execution_count": 174,
   "metadata": {},
   "outputs": [],
   "source": [
    "#First we have to normalise our data\n",
    "\n",
    "mean = train_set_num.mean(axis=0)\n",
    "train_set_num -= mean\n",
    "std = train_set_num.std(axis=0)\n",
    "train_set_num /= std\n",
    "\n",
    "mean = test_set_num.mean(axis=0)\n",
    "test_set_num -= mean\n",
    "std = test_set_num.std(axis=0)\n",
    "test_set_num /= std"
   ]
  },
  {
   "cell_type": "markdown",
   "metadata": {},
   "source": [
    "Creating the model:"
   ]
  },
  {
   "cell_type": "code",
   "execution_count": 175,
   "metadata": {},
   "outputs": [],
   "source": [
    "def build_model():\n",
    "  model = tf.keras.Sequential([\n",
    "    tf.keras.layers.Dense(30, activation='relu', input_shape=[train_set_num.shape[1]]),\n",
    "    tf.keras.layers.Dense(30, activation='relu'),\n",
    "    tf.keras.layers.Dense(1)\n",
    "  ])\n",
    "\n",
    "  optimizer = tf.keras.optimizers.RMSprop(0.001)\n",
    "\n",
    "  model.compile(loss='mse',\n",
    "                optimizer=optimizer,\n",
    "                metrics=['mae', 'mse'])\n",
    "  return model"
   ]
  },
  {
   "cell_type": "code",
   "execution_count": 90,
   "metadata": {},
   "outputs": [],
   "source": [
    "model = build_model()"
   ]
  },
  {
   "cell_type": "code",
   "execution_count": 176,
   "metadata": {},
   "outputs": [
    {
     "name": "stdout",
     "output_type": "stream",
     "text": [
      "Epoch 1/250\n",
      "17/17 [==============================] - 0s 10ms/step - loss: 0.3121 - mae: 0.4268 - mse: 0.3121\n",
      "Epoch 2/250\n",
      "17/17 [==============================] - 0s 9ms/step - loss: 0.3284 - mae: 0.4386 - mse: 0.3284\n",
      "Epoch 3/250\n",
      "17/17 [==============================] - 0s 9ms/step - loss: 0.3195 - mae: 0.4290 - mse: 0.3195\n",
      "Epoch 4/250\n",
      "17/17 [==============================] - 0s 12ms/step - loss: 0.3228 - mae: 0.4310 - mse: 0.3228\n",
      "Epoch 5/250\n",
      "17/17 [==============================] - 0s 9ms/step - loss: 0.3350 - mae: 0.4346 - mse: 0.3350\n",
      "Epoch 6/250\n",
      "17/17 [==============================] - 0s 9ms/step - loss: 0.3086 - mae: 0.4175 - mse: 0.3086\n",
      "Epoch 7/250\n",
      "17/17 [==============================] - 0s 9ms/step - loss: 0.3134 - mae: 0.4268 - mse: 0.3134\n",
      "Epoch 8/250\n",
      "17/17 [==============================] - 0s 11ms/step - loss: 0.3122 - mae: 0.4255 - mse: 0.3122\n",
      "Epoch 9/250\n",
      "17/17 [==============================] - 0s 12ms/step - loss: 0.3070 - mae: 0.4214 - mse: 0.3070\n",
      "Epoch 10/250\n",
      "17/17 [==============================] - 0s 10ms/step - loss: 0.3081 - mae: 0.4165 - mse: 0.3081\n",
      "Epoch 11/250\n",
      "17/17 [==============================] - 0s 10ms/step - loss: 0.3006 - mae: 0.4090 - mse: 0.3006\n",
      "Epoch 12/250\n",
      "17/17 [==============================] - 0s 9ms/step - loss: 0.3133 - mae: 0.4279 - mse: 0.3133\n",
      "Epoch 13/250\n",
      "17/17 [==============================] - 0s 12ms/step - loss: 0.2977 - mae: 0.4126 - mse: 0.2977\n",
      "Epoch 14/250\n",
      "17/17 [==============================] - 0s 10ms/step - loss: 0.2982 - mae: 0.4136 - mse: 0.2982\n",
      "Epoch 15/250\n",
      "17/17 [==============================] - 0s 9ms/step - loss: 0.3090 - mae: 0.4157 - mse: 0.3090\n",
      "Epoch 16/250\n",
      "17/17 [==============================] - 0s 10ms/step - loss: 0.3040 - mae: 0.4210 - mse: 0.3040\n",
      "Epoch 17/250\n",
      "17/17 [==============================] - 0s 11ms/step - loss: 0.3055 - mae: 0.4178 - mse: 0.3055\n",
      "Epoch 18/250\n",
      "17/17 [==============================] - 0s 10ms/step - loss: 0.3054 - mae: 0.4171 - mse: 0.3054\n",
      "Epoch 19/250\n",
      "17/17 [==============================] - 0s 9ms/step - loss: 0.3025 - mae: 0.4107 - mse: 0.3025\n",
      "Epoch 20/250\n",
      "17/17 [==============================] - 0s 13ms/step - loss: 0.2925 - mae: 0.4054 - mse: 0.2925\n",
      "Epoch 21/250\n",
      "17/17 [==============================] - 0s 11ms/step - loss: 0.2942 - mae: 0.4082 - mse: 0.2942\n",
      "Epoch 22/250\n",
      "17/17 [==============================] - 0s 10ms/step - loss: 0.3045 - mae: 0.4115 - mse: 0.3045\n",
      "Epoch 23/250\n",
      "17/17 [==============================] - 0s 10ms/step - loss: 0.3031 - mae: 0.4149 - mse: 0.3031\n",
      "Epoch 24/250\n",
      "17/17 [==============================] - 0s 12ms/step - loss: 0.2961 - mae: 0.4039 - mse: 0.2961\n",
      "Epoch 25/250\n",
      "17/17 [==============================] - 0s 10ms/step - loss: 0.2907 - mae: 0.4037 - mse: 0.2907\n",
      "Epoch 26/250\n",
      "17/17 [==============================] - 0s 12ms/step - loss: 0.2857 - mae: 0.4003 - mse: 0.2857\n",
      "Epoch 27/250\n",
      "17/17 [==============================] - 0s 12ms/step - loss: 0.2932 - mae: 0.4057 - mse: 0.2932\n",
      "Epoch 28/250\n",
      "17/17 [==============================] - 0s 8ms/step - loss: 0.2785 - mae: 0.3944 - mse: 0.2785\n",
      "Epoch 29/250\n",
      "17/17 [==============================] - 0s 12ms/step - loss: 0.2849 - mae: 0.3976 - mse: 0.2849\n",
      "Epoch 30/250\n",
      "17/17 [==============================] - 0s 10ms/step - loss: 0.2906 - mae: 0.4044 - mse: 0.2906\n",
      "Epoch 31/250\n",
      "17/17 [==============================] - 0s 11ms/step - loss: 0.2796 - mae: 0.3957 - mse: 0.2796\n",
      "Epoch 32/250\n",
      "17/17 [==============================] - 0s 12ms/step - loss: 0.2859 - mae: 0.3950 - mse: 0.2859\n",
      "Epoch 33/250\n",
      "17/17 [==============================] - 0s 11ms/step - loss: 0.2881 - mae: 0.4003 - mse: 0.2881\n",
      "Epoch 34/250\n",
      "17/17 [==============================] - 0s 13ms/step - loss: 0.2900 - mae: 0.4106 - mse: 0.2900\n",
      "Epoch 35/250\n",
      "17/17 [==============================] - 0s 11ms/step - loss: 0.2765 - mae: 0.3941 - mse: 0.2765\n",
      "Epoch 36/250\n",
      "17/17 [==============================] - 0s 13ms/step - loss: 0.2764 - mae: 0.3927 - mse: 0.2764\n",
      "Epoch 37/250\n",
      "17/17 [==============================] - 0s 9ms/step - loss: 0.2965 - mae: 0.4029 - mse: 0.2965\n",
      "Epoch 38/250\n",
      "17/17 [==============================] - 0s 10ms/step - loss: 0.2772 - mae: 0.3883 - mse: 0.2772\n",
      "Epoch 39/250\n",
      "17/17 [==============================] - 0s 9ms/step - loss: 0.2674 - mae: 0.3874 - mse: 0.2674\n",
      "Epoch 40/250\n",
      "17/17 [==============================] - 0s 10ms/step - loss: 0.2781 - mae: 0.3947 - mse: 0.2781\n",
      "Epoch 41/250\n",
      "17/17 [==============================] - 0s 11ms/step - loss: 0.2817 - mae: 0.3985 - mse: 0.2817\n",
      "Epoch 42/250\n",
      "17/17 [==============================] - 0s 12ms/step - loss: 0.2767 - mae: 0.3912 - mse: 0.2767\n",
      "Epoch 43/250\n",
      "17/17 [==============================] - 0s 11ms/step - loss: 0.2639 - mae: 0.3838 - mse: 0.2639\n",
      "Epoch 44/250\n",
      "17/17 [==============================] - 0s 11ms/step - loss: 0.2723 - mae: 0.3925 - mse: 0.2723\n",
      "Epoch 45/250\n",
      "17/17 [==============================] - 0s 9ms/step - loss: 0.2637 - mae: 0.3802 - mse: 0.2637\n",
      "Epoch 46/250\n",
      "17/17 [==============================] - 0s 11ms/step - loss: 0.2581 - mae: 0.3725 - mse: 0.2581\n",
      "Epoch 47/250\n",
      "17/17 [==============================] - 0s 12ms/step - loss: 0.2665 - mae: 0.3838 - mse: 0.2665\n",
      "Epoch 48/250\n",
      "17/17 [==============================] - 0s 9ms/step - loss: 0.2739 - mae: 0.3857 - mse: 0.2739\n",
      "Epoch 49/250\n",
      "17/17 [==============================] - 0s 13ms/step - loss: 0.2670 - mae: 0.3778 - mse: 0.2670\n",
      "Epoch 50/250\n",
      "17/17 [==============================] - 0s 9ms/step - loss: 0.2793 - mae: 0.3937 - mse: 0.2793\n",
      "Epoch 51/250\n",
      "17/17 [==============================] - 0s 13ms/step - loss: 0.2661 - mae: 0.3788 - mse: 0.2661\n",
      "Epoch 52/250\n",
      "17/17 [==============================] - 0s 10ms/step - loss: 0.2548 - mae: 0.3752 - mse: 0.2548\n",
      "Epoch 53/250\n",
      "17/17 [==============================] - 0s 10ms/step - loss: 0.2713 - mae: 0.3907 - mse: 0.2713\n",
      "Epoch 54/250\n",
      "17/17 [==============================] - 0s 10ms/step - loss: 0.2656 - mae: 0.3799 - mse: 0.2656\n",
      "Epoch 55/250\n",
      "17/17 [==============================] - 0s 11ms/step - loss: 0.2594 - mae: 0.3742 - mse: 0.2594\n",
      "Epoch 56/250\n",
      "17/17 [==============================] - 0s 12ms/step - loss: 0.2627 - mae: 0.3844 - mse: 0.2627\n",
      "Epoch 57/250\n",
      "17/17 [==============================] - 0s 11ms/step - loss: 0.2616 - mae: 0.3678 - mse: 0.2616\n",
      "Epoch 58/250\n",
      "17/17 [==============================] - 0s 9ms/step - loss: 0.2566 - mae: 0.3806 - mse: 0.2566\n",
      "Epoch 59/250\n",
      "17/17 [==============================] - 0s 9ms/step - loss: 0.2612 - mae: 0.3743 - mse: 0.2612\n",
      "Epoch 60/250\n",
      "17/17 [==============================] - 0s 11ms/step - loss: 0.2596 - mae: 0.3805 - mse: 0.2596\n",
      "Epoch 61/250\n",
      "17/17 [==============================] - 0s 8ms/step - loss: 0.2646 - mae: 0.3770 - mse: 0.2646\n",
      "Epoch 62/250\n",
      "17/17 [==============================] - 0s 11ms/step - loss: 0.2643 - mae: 0.3798 - mse: 0.2643\n",
      "Epoch 63/250\n",
      "17/17 [==============================] - 0s 12ms/step - loss: 0.2594 - mae: 0.3757 - mse: 0.2594\n",
      "Epoch 64/250\n",
      "17/17 [==============================] - 0s 9ms/step - loss: 0.2571 - mae: 0.3698 - mse: 0.2571\n",
      "Epoch 65/250\n",
      "17/17 [==============================] - 0s 10ms/step - loss: 0.2483 - mae: 0.3662 - mse: 0.2483\n",
      "Epoch 66/250\n",
      "17/17 [==============================] - 0s 8ms/step - loss: 0.2553 - mae: 0.3787 - mse: 0.2553\n",
      "Epoch 67/250\n",
      "17/17 [==============================] - 0s 12ms/step - loss: 0.2554 - mae: 0.3782 - mse: 0.2554\n",
      "Epoch 68/250\n",
      "17/17 [==============================] - 0s 11ms/step - loss: 0.2519 - mae: 0.3648 - mse: 0.2519\n",
      "Epoch 69/250\n",
      "17/17 [==============================] - 0s 12ms/step - loss: 0.2609 - mae: 0.3727 - mse: 0.2609\n",
      "Epoch 70/250\n",
      "17/17 [==============================] - 0s 11ms/step - loss: 0.2506 - mae: 0.3644 - mse: 0.2506\n",
      "Epoch 71/250\n",
      "17/17 [==============================] - 0s 12ms/step - loss: 0.2519 - mae: 0.3734 - mse: 0.2519\n",
      "Epoch 72/250\n",
      "17/17 [==============================] - 0s 14ms/step - loss: 0.2485 - mae: 0.3659 - mse: 0.2485\n",
      "Epoch 73/250\n",
      "17/17 [==============================] - 0s 11ms/step - loss: 0.2482 - mae: 0.3646 - mse: 0.2482\n",
      "Epoch 74/250\n",
      "17/17 [==============================] - 0s 17ms/step - loss: 0.2384 - mae: 0.3564 - mse: 0.2384\n",
      "Epoch 75/250\n",
      "17/17 [==============================] - 0s 13ms/step - loss: 0.2628 - mae: 0.3779 - mse: 0.2628\n",
      "Epoch 76/250\n",
      "17/17 [==============================] - 0s 13ms/step - loss: 0.2530 - mae: 0.3625 - mse: 0.2530\n",
      "Epoch 77/250\n",
      "17/17 [==============================] - 0s 14ms/step - loss: 0.2416 - mae: 0.3600 - mse: 0.2416\n",
      "Epoch 78/250\n",
      "17/17 [==============================] - 0s 12ms/step - loss: 0.2499 - mae: 0.3704 - mse: 0.2499\n",
      "Epoch 79/250\n",
      "17/17 [==============================] - 0s 9ms/step - loss: 0.2489 - mae: 0.3642 - mse: 0.2489\n",
      "Epoch 80/250\n",
      "17/17 [==============================] - 0s 11ms/step - loss: 0.2383 - mae: 0.3549 - mse: 0.2383\n",
      "Epoch 81/250\n",
      "17/17 [==============================] - 0s 13ms/step - loss: 0.2480 - mae: 0.3674 - mse: 0.2480\n",
      "Epoch 82/250\n",
      "17/17 [==============================] - 0s 11ms/step - loss: 0.2398 - mae: 0.3585 - mse: 0.2398\n",
      "Epoch 83/250\n",
      "17/17 [==============================] - 0s 12ms/step - loss: 0.2432 - mae: 0.3607 - mse: 0.2432\n",
      "Epoch 84/250\n",
      "17/17 [==============================] - 0s 7ms/step - loss: 0.2378 - mae: 0.3574 - mse: 0.2378\n",
      "Epoch 85/250\n",
      "17/17 [==============================] - 0s 9ms/step - loss: 0.2409 - mae: 0.3660 - mse: 0.2409\n",
      "Epoch 86/250\n",
      "17/17 [==============================] - 0s 9ms/step - loss: 0.2322 - mae: 0.3470 - mse: 0.2322\n",
      "Epoch 87/250\n",
      "17/17 [==============================] - 0s 10ms/step - loss: 0.2437 - mae: 0.3640 - mse: 0.2437\n",
      "Epoch 88/250\n",
      "17/17 [==============================] - 0s 7ms/step - loss: 0.2279 - mae: 0.3473 - mse: 0.2279\n",
      "Epoch 89/250\n",
      "17/17 [==============================] - 0s 10ms/step - loss: 0.2324 - mae: 0.3499 - mse: 0.2324\n",
      "Epoch 90/250\n",
      "17/17 [==============================] - 0s 9ms/step - loss: 0.2334 - mae: 0.3513 - mse: 0.2334\n",
      "Epoch 91/250\n",
      "17/17 [==============================] - 0s 9ms/step - loss: 0.2309 - mae: 0.3482 - mse: 0.2309\n",
      "Epoch 92/250\n",
      "17/17 [==============================] - 0s 10ms/step - loss: 0.2387 - mae: 0.3536 - mse: 0.2387\n",
      "Epoch 93/250\n",
      "17/17 [==============================] - 0s 11ms/step - loss: 0.2414 - mae: 0.3570 - mse: 0.2414\n",
      "Epoch 94/250\n",
      "17/17 [==============================] - 0s 11ms/step - loss: 0.2231 - mae: 0.3413 - mse: 0.2231\n",
      "Epoch 95/250\n",
      "17/17 [==============================] - 0s 10ms/step - loss: 0.2400 - mae: 0.3538 - mse: 0.2400\n",
      "Epoch 96/250\n",
      "17/17 [==============================] - 0s 12ms/step - loss: 0.2190 - mae: 0.3363 - mse: 0.2190\n",
      "Epoch 97/250\n",
      "17/17 [==============================] - 0s 11ms/step - loss: 0.2301 - mae: 0.3466 - mse: 0.2301\n",
      "Epoch 98/250\n",
      "17/17 [==============================] - 0s 12ms/step - loss: 0.2347 - mae: 0.3514 - mse: 0.2347\n",
      "Epoch 99/250\n",
      "17/17 [==============================] - 0s 11ms/step - loss: 0.2345 - mae: 0.3496 - mse: 0.2345\n",
      "Epoch 100/250\n",
      "17/17 [==============================] - 0s 12ms/step - loss: 0.2307 - mae: 0.3470 - mse: 0.2307\n",
      "Epoch 101/250\n",
      "17/17 [==============================] - 0s 13ms/step - loss: 0.2306 - mae: 0.3510 - mse: 0.2306\n",
      "Epoch 102/250\n",
      "17/17 [==============================] - 0s 11ms/step - loss: 0.2326 - mae: 0.3488 - mse: 0.2326\n",
      "Epoch 103/250\n",
      "17/17 [==============================] - 0s 10ms/step - loss: 0.2318 - mae: 0.3478 - mse: 0.2318\n",
      "Epoch 104/250\n",
      "17/17 [==============================] - 0s 11ms/step - loss: 0.2278 - mae: 0.3505 - mse: 0.2278\n",
      "Epoch 105/250\n",
      "17/17 [==============================] - 0s 11ms/step - loss: 0.2276 - mae: 0.3447 - mse: 0.2276\n",
      "Epoch 106/250\n",
      "17/17 [==============================] - 0s 11ms/step - loss: 0.2318 - mae: 0.3504 - mse: 0.2318\n",
      "Epoch 107/250\n",
      "17/17 [==============================] - 0s 11ms/step - loss: 0.2158 - mae: 0.3391 - mse: 0.2158\n",
      "Epoch 108/250\n",
      "17/17 [==============================] - 0s 9ms/step - loss: 0.2298 - mae: 0.3465 - mse: 0.2298\n",
      "Epoch 109/250\n",
      "17/17 [==============================] - 0s 10ms/step - loss: 0.2256 - mae: 0.3421 - mse: 0.2256\n",
      "Epoch 110/250\n",
      "17/17 [==============================] - ETA: 0s - loss: 0.2008 - mae: 0.3269 - mse: 0.200 - 0s 11ms/step - loss: 0.2119 - mae: 0.3329 - mse: 0.2119\n",
      "Epoch 111/250\n",
      "17/17 [==============================] - 0s 12ms/step - loss: 0.2263 - mae: 0.3502 - mse: 0.2263\n",
      "Epoch 112/250\n",
      "17/17 [==============================] - 0s 11ms/step - loss: 0.2120 - mae: 0.3264 - mse: 0.2120\n",
      "Epoch 113/250\n",
      "17/17 [==============================] - 0s 11ms/step - loss: 0.2240 - mae: 0.3388 - mse: 0.2240\n",
      "Epoch 114/250\n",
      "17/17 [==============================] - 0s 12ms/step - loss: 0.2346 - mae: 0.3507 - mse: 0.2346\n",
      "Epoch 115/250\n",
      "17/17 [==============================] - 0s 10ms/step - loss: 0.2129 - mae: 0.3309 - mse: 0.2129\n",
      "Epoch 116/250\n",
      "17/17 [==============================] - 0s 11ms/step - loss: 0.2142 - mae: 0.3312 - mse: 0.2142\n",
      "Epoch 117/250\n",
      "17/17 [==============================] - 0s 11ms/step - loss: 0.2143 - mae: 0.3438 - mse: 0.2143\n",
      "Epoch 118/250\n",
      "17/17 [==============================] - 0s 11ms/step - loss: 0.2090 - mae: 0.3302 - mse: 0.2090\n",
      "Epoch 119/250\n",
      "17/17 [==============================] - 0s 11ms/step - loss: 0.2268 - mae: 0.3540 - mse: 0.2268\n",
      "Epoch 120/250\n",
      "17/17 [==============================] - 0s 13ms/step - loss: 0.2053 - mae: 0.3308 - mse: 0.2053\n",
      "Epoch 121/250\n",
      "17/17 [==============================] - 0s 9ms/step - loss: 0.2255 - mae: 0.3486 - mse: 0.2255\n",
      "Epoch 122/250\n",
      "17/17 [==============================] - 0s 10ms/step - loss: 0.2065 - mae: 0.3280 - mse: 0.2065\n",
      "Epoch 123/250\n",
      "17/17 [==============================] - 0s 11ms/step - loss: 0.2182 - mae: 0.3313 - mse: 0.2182\n",
      "Epoch 124/250\n",
      "17/17 [==============================] - 0s 12ms/step - loss: 0.2213 - mae: 0.3467 - mse: 0.2213\n",
      "Epoch 125/250\n",
      "17/17 [==============================] - 0s 10ms/step - loss: 0.2106 - mae: 0.3344 - mse: 0.2106\n",
      "Epoch 126/250\n",
      "17/17 [==============================] - 0s 11ms/step - loss: 0.2031 - mae: 0.3274 - mse: 0.2031\n",
      "Epoch 127/250\n",
      "17/17 [==============================] - 0s 11ms/step - loss: 0.2176 - mae: 0.3372 - mse: 0.2176\n",
      "Epoch 128/250\n",
      "17/17 [==============================] - 0s 9ms/step - loss: 0.2152 - mae: 0.3397 - mse: 0.2152\n",
      "Epoch 129/250\n",
      "17/17 [==============================] - 0s 9ms/step - loss: 0.2263 - mae: 0.3390 - mse: 0.2263\n",
      "Epoch 130/250\n",
      "17/17 [==============================] - 0s 13ms/step - loss: 0.2064 - mae: 0.3306 - mse: 0.2064\n",
      "Epoch 131/250\n",
      "17/17 [==============================] - 0s 9ms/step - loss: 0.2170 - mae: 0.3372 - mse: 0.2170\n",
      "Epoch 132/250\n",
      "17/17 [==============================] - 0s 12ms/step - loss: 0.2006 - mae: 0.3234 - mse: 0.2006\n",
      "Epoch 133/250\n",
      "17/17 [==============================] - 0s 11ms/step - loss: 0.2083 - mae: 0.3303 - mse: 0.2083\n",
      "Epoch 134/250\n",
      "17/17 [==============================] - 0s 11ms/step - loss: 0.2048 - mae: 0.3303 - mse: 0.2048\n",
      "Epoch 135/250\n",
      "17/17 [==============================] - 0s 12ms/step - loss: 0.2131 - mae: 0.3375 - mse: 0.2131\n",
      "Epoch 136/250\n",
      "17/17 [==============================] - 0s 11ms/step - loss: 0.2064 - mae: 0.3222 - mse: 0.2064\n",
      "Epoch 137/250\n",
      "17/17 [==============================] - 0s 11ms/step - loss: 0.1974 - mae: 0.3210 - mse: 0.1974\n",
      "Epoch 138/250\n",
      "17/17 [==============================] - 0s 12ms/step - loss: 0.2039 - mae: 0.3291 - mse: 0.2039\n",
      "Epoch 139/250\n",
      "17/17 [==============================] - 0s 10ms/step - loss: 0.2000 - mae: 0.3252 - mse: 0.2000\n",
      "Epoch 140/250\n",
      "17/17 [==============================] - 0s 10ms/step - loss: 0.2007 - mae: 0.3277 - mse: 0.2007\n",
      "Epoch 141/250\n",
      "17/17 [==============================] - 0s 12ms/step - loss: 0.2015 - mae: 0.3184 - mse: 0.2015\n",
      "Epoch 142/250\n",
      "17/17 [==============================] - 0s 12ms/step - loss: 0.2076 - mae: 0.3347 - mse: 0.2076\n",
      "Epoch 143/250\n",
      "17/17 [==============================] - 0s 11ms/step - loss: 0.2054 - mae: 0.3191 - mse: 0.2054\n",
      "Epoch 144/250\n",
      "17/17 [==============================] - 0s 10ms/step - loss: 0.2089 - mae: 0.3399 - mse: 0.2089\n",
      "Epoch 145/250\n",
      "17/17 [==============================] - 0s 12ms/step - loss: 0.1963 - mae: 0.3190 - mse: 0.1963\n",
      "Epoch 146/250\n",
      "17/17 [==============================] - 0s 12ms/step - loss: 0.2063 - mae: 0.3326 - mse: 0.2063\n",
      "Epoch 147/250\n",
      "17/17 [==============================] - 0s 11ms/step - loss: 0.2104 - mae: 0.3313 - mse: 0.2104\n",
      "Epoch 148/250\n",
      "17/17 [==============================] - 0s 9ms/step - loss: 0.2006 - mae: 0.3238 - mse: 0.2006\n",
      "Epoch 149/250\n",
      "17/17 [==============================] - 0s 13ms/step - loss: 0.2046 - mae: 0.3260 - mse: 0.2046\n",
      "Epoch 150/250\n",
      "17/17 [==============================] - 0s 11ms/step - loss: 0.2134 - mae: 0.3392 - mse: 0.2134\n",
      "Epoch 151/250\n",
      "17/17 [==============================] - 0s 8ms/step - loss: 0.1897 - mae: 0.3088 - mse: 0.1897\n",
      "Epoch 152/250\n",
      "17/17 [==============================] - 0s 11ms/step - loss: 0.2014 - mae: 0.3174 - mse: 0.2014\n",
      "Epoch 153/250\n",
      "17/17 [==============================] - 0s 12ms/step - loss: 0.2068 - mae: 0.3261 - mse: 0.2068\n",
      "Epoch 154/250\n",
      "17/17 [==============================] - 0s 7ms/step - loss: 0.1841 - mae: 0.3070 - mse: 0.1841\n",
      "Epoch 155/250\n",
      "17/17 [==============================] - 0s 10ms/step - loss: 0.2024 - mae: 0.3320 - mse: 0.2024\n",
      "Epoch 156/250\n",
      "17/17 [==============================] - 0s 12ms/step - loss: 0.2012 - mae: 0.3253 - mse: 0.2012\n",
      "Epoch 157/250\n",
      "17/17 [==============================] - 0s 10ms/step - loss: 0.1920 - mae: 0.3157 - mse: 0.1920\n",
      "Epoch 158/250\n",
      "17/17 [==============================] - 0s 9ms/step - loss: 0.2027 - mae: 0.3221 - mse: 0.2027\n",
      "Epoch 159/250\n",
      "17/17 [==============================] - 0s 9ms/step - loss: 0.2007 - mae: 0.3157 - mse: 0.2007\n",
      "Epoch 160/250\n",
      "17/17 [==============================] - 0s 11ms/step - loss: 0.2066 - mae: 0.3295 - mse: 0.2066\n",
      "Epoch 161/250\n",
      "17/17 [==============================] - 0s 9ms/step - loss: 0.1889 - mae: 0.3089 - mse: 0.1889\n",
      "Epoch 162/250\n",
      "17/17 [==============================] - 0s 10ms/step - loss: 0.1876 - mae: 0.3143 - mse: 0.1876\n",
      "Epoch 163/250\n",
      "17/17 [==============================] - 0s 9ms/step - loss: 0.1925 - mae: 0.3255 - mse: 0.1925\n",
      "Epoch 164/250\n",
      "17/17 [==============================] - 0s 11ms/step - loss: 0.1988 - mae: 0.3219 - mse: 0.1988\n",
      "Epoch 165/250\n",
      "17/17 [==============================] - 0s 12ms/step - loss: 0.1865 - mae: 0.3078 - mse: 0.1865: 0s - loss: 0.1865 - mae: 0.3078 - mse: 0.186\n",
      "Epoch 166/250\n",
      "17/17 [==============================] - 0s 10ms/step - loss: 0.2010 - mae: 0.3192 - mse: 0.2010\n",
      "Epoch 167/250\n",
      "17/17 [==============================] - 0s 11ms/step - loss: 0.2075 - mae: 0.3270 - mse: 0.2075\n",
      "Epoch 168/250\n",
      "17/17 [==============================] - 0s 12ms/step - loss: 0.2011 - mae: 0.3255 - mse: 0.2011\n",
      "Epoch 169/250\n",
      "17/17 [==============================] - 0s 10ms/step - loss: 0.1909 - mae: 0.3170 - mse: 0.1909\n",
      "Epoch 170/250\n",
      "17/17 [==============================] - 0s 13ms/step - loss: 0.1937 - mae: 0.3187 - mse: 0.1937\n",
      "Epoch 171/250\n",
      "17/17 [==============================] - 0s 11ms/step - loss: 0.1967 - mae: 0.3167 - mse: 0.1967\n",
      "Epoch 172/250\n",
      "17/17 [==============================] - 0s 11ms/step - loss: 0.1809 - mae: 0.3039 - mse: 0.1809\n",
      "Epoch 173/250\n",
      "17/17 [==============================] - 0s 9ms/step - loss: 0.1922 - mae: 0.3186 - mse: 0.1922\n",
      "Epoch 174/250\n",
      "17/17 [==============================] - 0s 11ms/step - loss: 0.1928 - mae: 0.3204 - mse: 0.1928\n",
      "Epoch 175/250\n",
      "17/17 [==============================] - 0s 9ms/step - loss: 0.1921 - mae: 0.3094 - mse: 0.1921\n",
      "Epoch 176/250\n",
      "17/17 [==============================] - 0s 9ms/step - loss: 0.1893 - mae: 0.3115 - mse: 0.1893\n",
      "Epoch 177/250\n",
      "17/17 [==============================] - ETA: 0s - loss: 0.1835 - mae: 0.2996 - mse: 0.183 - 0s 10ms/step - loss: 0.1821 - mae: 0.3002 - mse: 0.1821\n",
      "Epoch 178/250\n",
      "17/17 [==============================] - 0s 9ms/step - loss: 0.1967 - mae: 0.3215 - mse: 0.1967\n",
      "Epoch 179/250\n",
      "17/17 [==============================] - 0s 11ms/step - loss: 0.2023 - mae: 0.3286 - mse: 0.2023\n",
      "Epoch 180/250\n",
      "17/17 [==============================] - 0s 11ms/step - loss: 0.1924 - mae: 0.3142 - mse: 0.1924\n",
      "Epoch 181/250\n",
      "17/17 [==============================] - 0s 11ms/step - loss: 0.1898 - mae: 0.3159 - mse: 0.1898\n",
      "Epoch 182/250\n",
      "17/17 [==============================] - 0s 11ms/step - loss: 0.1855 - mae: 0.3050 - mse: 0.1855\n",
      "Epoch 183/250\n",
      "17/17 [==============================] - 0s 13ms/step - loss: 0.1890 - mae: 0.3072 - mse: 0.1890: 0s - loss: 0.1893 - mae: 0.3062 - mse: 0.189\n",
      "Epoch 184/250\n",
      "17/17 [==============================] - 0s 11ms/step - loss: 0.1825 - mae: 0.3069 - mse: 0.1825\n",
      "Epoch 185/250\n",
      "17/17 [==============================] - 0s 10ms/step - loss: 0.1844 - mae: 0.3051 - mse: 0.1844\n",
      "Epoch 186/250\n",
      "17/17 [==============================] - 0s 12ms/step - loss: 0.1841 - mae: 0.3051 - mse: 0.1841\n",
      "Epoch 187/250\n",
      "17/17 [==============================] - 0s 10ms/step - loss: 0.1845 - mae: 0.3041 - mse: 0.1845\n",
      "Epoch 188/250\n",
      "17/17 [==============================] - 0s 11ms/step - loss: 0.1823 - mae: 0.3049 - mse: 0.1823\n",
      "Epoch 189/250\n",
      "17/17 [==============================] - 0s 14ms/step - loss: 0.1795 - mae: 0.3049 - mse: 0.1795\n",
      "Epoch 190/250\n",
      "17/17 [==============================] - 0s 12ms/step - loss: 0.1874 - mae: 0.3130 - mse: 0.1874\n",
      "Epoch 191/250\n",
      "17/17 [==============================] - 0s 9ms/step - loss: 0.1810 - mae: 0.3000 - mse: 0.1810\n",
      "Epoch 192/250\n",
      "17/17 [==============================] - 0s 12ms/step - loss: 0.1884 - mae: 0.3186 - mse: 0.1884\n",
      "Epoch 193/250\n",
      "17/17 [==============================] - 0s 11ms/step - loss: 0.1731 - mae: 0.2985 - mse: 0.1731\n",
      "Epoch 194/250\n",
      "17/17 [==============================] - 0s 9ms/step - loss: 0.1739 - mae: 0.2951 - mse: 0.1739\n",
      "Epoch 195/250\n",
      "17/17 [==============================] - 0s 13ms/step - loss: 0.1815 - mae: 0.3213 - mse: 0.1815\n",
      "Epoch 196/250\n",
      "17/17 [==============================] - 0s 10ms/step - loss: 0.1759 - mae: 0.3027 - mse: 0.1759\n",
      "Epoch 197/250\n",
      "17/17 [==============================] - 0s 13ms/step - loss: 0.1778 - mae: 0.3073 - mse: 0.1778\n",
      "Epoch 198/250\n",
      "17/17 [==============================] - 0s 13ms/step - loss: 0.1921 - mae: 0.3209 - mse: 0.1921\n",
      "Epoch 199/250\n",
      "17/17 [==============================] - 0s 12ms/step - loss: 0.1754 - mae: 0.2976 - mse: 0.1754\n",
      "Epoch 200/250\n",
      "17/17 [==============================] - 0s 11ms/step - loss: 0.1823 - mae: 0.3095 - mse: 0.1823\n",
      "Epoch 201/250\n",
      "17/17 [==============================] - 0s 10ms/step - loss: 0.1817 - mae: 0.3132 - mse: 0.1817\n",
      "Epoch 202/250\n",
      "17/17 [==============================] - 0s 9ms/step - loss: 0.1771 - mae: 0.3022 - mse: 0.1771\n",
      "Epoch 203/250\n",
      "17/17 [==============================] - 0s 10ms/step - loss: 0.1792 - mae: 0.3102 - mse: 0.1792\n",
      "Epoch 204/250\n",
      "17/17 [==============================] - 0s 10ms/step - loss: 0.1757 - mae: 0.3045 - mse: 0.1757\n",
      "Epoch 205/250\n",
      "17/17 [==============================] - 0s 11ms/step - loss: 0.1778 - mae: 0.3055 - mse: 0.1778\n",
      "Epoch 206/250\n",
      "17/17 [==============================] - 0s 11ms/step - loss: 0.1737 - mae: 0.2987 - mse: 0.1737\n",
      "Epoch 207/250\n",
      "17/17 [==============================] - 0s 11ms/step - loss: 0.1667 - mae: 0.2894 - mse: 0.1667\n",
      "Epoch 208/250\n",
      "17/17 [==============================] - 0s 10ms/step - loss: 0.1865 - mae: 0.3156 - mse: 0.1865\n",
      "Epoch 209/250\n",
      "17/17 [==============================] - 0s 11ms/step - loss: 0.1695 - mae: 0.2913 - mse: 0.1695\n",
      "Epoch 210/250\n",
      "17/17 [==============================] - 0s 9ms/step - loss: 0.1831 - mae: 0.3093 - mse: 0.1831\n",
      "Epoch 211/250\n",
      "17/17 [==============================] - 0s 8ms/step - loss: 0.1780 - mae: 0.3063 - mse: 0.1780\n",
      "Epoch 212/250\n",
      "17/17 [==============================] - ETA: 0s - loss: 0.1674 - mae: 0.2963 - mse: 0.167 - 0s 9ms/step - loss: 0.1674 - mae: 0.2963 - mse: 0.1674\n",
      "Epoch 213/250\n",
      "17/17 [==============================] - 0s 9ms/step - loss: 0.1787 - mae: 0.3091 - mse: 0.1787\n",
      "Epoch 214/250\n",
      "17/17 [==============================] - 0s 9ms/step - loss: 0.1798 - mae: 0.3050 - mse: 0.1798\n",
      "Epoch 215/250\n",
      "17/17 [==============================] - 0s 11ms/step - loss: 0.1657 - mae: 0.2963 - mse: 0.1657\n",
      "Epoch 216/250\n",
      "17/17 [==============================] - 0s 8ms/step - loss: 0.1706 - mae: 0.2982 - mse: 0.1706\n",
      "Epoch 217/250\n",
      "17/17 [==============================] - 0s 11ms/step - loss: 0.1724 - mae: 0.2972 - mse: 0.1724\n",
      "Epoch 218/250\n",
      "17/17 [==============================] - 0s 11ms/step - loss: 0.1714 - mae: 0.2960 - mse: 0.1714\n",
      "Epoch 219/250\n",
      "17/17 [==============================] - 0s 9ms/step - loss: 0.1757 - mae: 0.2975 - mse: 0.1757\n",
      "Epoch 220/250\n",
      "17/17 [==============================] - 0s 10ms/step - loss: 0.1657 - mae: 0.2911 - mse: 0.1657\n",
      "Epoch 221/250\n",
      "17/17 [==============================] - 0s 9ms/step - loss: 0.1581 - mae: 0.2802 - mse: 0.1581\n",
      "Epoch 222/250\n",
      "17/17 [==============================] - ETA: 0s - loss: 0.1868 - mae: 0.3145 - mse: 0.186 - 0s 10ms/step - loss: 0.1863 - mae: 0.3147 - mse: 0.1863\n",
      "Epoch 223/250\n",
      "17/17 [==============================] - 0s 9ms/step - loss: 0.1617 - mae: 0.2891 - mse: 0.1617\n",
      "Epoch 224/250\n",
      "17/17 [==============================] - 0s 11ms/step - loss: 0.1753 - mae: 0.3031 - mse: 0.1753\n",
      "Epoch 225/250\n",
      "17/17 [==============================] - 0s 11ms/step - loss: 0.1621 - mae: 0.2904 - mse: 0.1621\n",
      "Epoch 226/250\n",
      "17/17 [==============================] - 0s 9ms/step - loss: 0.1777 - mae: 0.3081 - mse: 0.1777\n",
      "Epoch 227/250\n",
      "17/17 [==============================] - 0s 10ms/step - loss: 0.1722 - mae: 0.2963 - mse: 0.1722\n",
      "Epoch 228/250\n",
      "17/17 [==============================] - 0s 9ms/step - loss: 0.1782 - mae: 0.3034 - mse: 0.1782\n",
      "Epoch 229/250\n",
      "17/17 [==============================] - 0s 10ms/step - loss: 0.1662 - mae: 0.2950 - mse: 0.1662\n",
      "Epoch 230/250\n",
      "17/17 [==============================] - 0s 9ms/step - loss: 0.1621 - mae: 0.2876 - mse: 0.1621\n",
      "Epoch 231/250\n",
      "17/17 [==============================] - 0s 10ms/step - loss: 0.1663 - mae: 0.2919 - mse: 0.1663\n",
      "Epoch 232/250\n",
      "17/17 [==============================] - 0s 9ms/step - loss: 0.1645 - mae: 0.2962 - mse: 0.1645\n",
      "Epoch 233/250\n",
      "17/17 [==============================] - 0s 10ms/step - loss: 0.1883 - mae: 0.3109 - mse: 0.1883\n",
      "Epoch 234/250\n",
      "17/17 [==============================] - 0s 12ms/step - loss: 0.1568 - mae: 0.2789 - mse: 0.1568\n",
      "Epoch 235/250\n",
      "17/17 [==============================] - 0s 9ms/step - loss: 0.1764 - mae: 0.3050 - mse: 0.1764\n",
      "Epoch 236/250\n",
      "17/17 [==============================] - 0s 11ms/step - loss: 0.1654 - mae: 0.2915 - mse: 0.1654\n",
      "Epoch 237/250\n",
      "17/17 [==============================] - 0s 8ms/step - loss: 0.1571 - mae: 0.2782 - mse: 0.1571\n",
      "Epoch 238/250\n",
      "17/17 [==============================] - 0s 10ms/step - loss: 0.1744 - mae: 0.3033 - mse: 0.1744\n",
      "Epoch 239/250\n",
      "17/17 [==============================] - 0s 10ms/step - loss: 0.1581 - mae: 0.2786 - mse: 0.1581\n",
      "Epoch 240/250\n",
      "17/17 [==============================] - 0s 14ms/step - loss: 0.1618 - mae: 0.2914 - mse: 0.1618\n",
      "Epoch 241/250\n",
      "17/17 [==============================] - 0s 11ms/step - loss: 0.1599 - mae: 0.2877 - mse: 0.1599\n",
      "Epoch 242/250\n",
      "17/17 [==============================] - 0s 10ms/step - loss: 0.1638 - mae: 0.2851 - mse: 0.1638\n",
      "Epoch 243/250\n",
      "17/17 [==============================] - 0s 9ms/step - loss: 0.1574 - mae: 0.2856 - mse: 0.1574\n",
      "Epoch 244/250\n",
      "17/17 [==============================] - 0s 10ms/step - loss: 0.1698 - mae: 0.2960 - mse: 0.1698\n",
      "Epoch 245/250\n",
      "17/17 [==============================] - 0s 11ms/step - loss: 0.1615 - mae: 0.2870 - mse: 0.1615\n",
      "Epoch 246/250\n",
      "17/17 [==============================] - 0s 11ms/step - loss: 0.1673 - mae: 0.2999 - mse: 0.1673\n",
      "Epoch 247/250\n",
      "17/17 [==============================] - 0s 11ms/step - loss: 0.1575 - mae: 0.2861 - mse: 0.1575: 0s - loss: 0.1580 - mae: 0.2868 - mse: 0.158\n",
      "Epoch 248/250\n",
      "17/17 [==============================] - 0s 8ms/step - loss: 0.1637 - mae: 0.2885 - mse: 0.1637\n",
      "Epoch 249/250\n",
      "17/17 [==============================] - 0s 9ms/step - loss: 0.1608 - mae: 0.2875 - mse: 0.1608\n",
      "Epoch 250/250\n",
      "17/17 [==============================] - 0s 10ms/step - loss: 0.1564 - mae: 0.2881 - mse: 0.1564\n"
     ]
    }
   ],
   "source": [
    "EPOCHS = 250\n",
    "\n",
    "history = model.fit(\n",
    "  train_set_num, train_targets,\n",
    "  epochs=EPOCHS);"
   ]
  },
  {
   "cell_type": "code",
   "execution_count": 177,
   "metadata": {},
   "outputs": [
    {
     "name": "stdout",
     "output_type": "stream",
     "text": [
      "The Root_Mean_Squared_Error is 1.6803404272205544\n"
     ]
    }
   ],
   "source": [
    "pred = model.predict(test_set_num)\n",
    "mse = mean_squared_error(test_targets,pred,squared=False)\n",
    "\n",
    "print(\"The Root_Mean_Squared_Error is\",mse)"
   ]
  },
  {
   "cell_type": "markdown",
   "metadata": {},
   "source": [
    "Analysing the error over time:"
   ]
  },
  {
   "cell_type": "code",
   "execution_count": 104,
   "metadata": {},
   "outputs": [
    {
     "data": {
      "text/html": [
       "<div>\n",
       "<style scoped>\n",
       "    .dataframe tbody tr th:only-of-type {\n",
       "        vertical-align: middle;\n",
       "    }\n",
       "\n",
       "    .dataframe tbody tr th {\n",
       "        vertical-align: top;\n",
       "    }\n",
       "\n",
       "    .dataframe thead th {\n",
       "        text-align: right;\n",
       "    }\n",
       "</style>\n",
       "<table border=\"1\" class=\"dataframe\">\n",
       "  <thead>\n",
       "    <tr style=\"text-align: right;\">\n",
       "      <th></th>\n",
       "      <th>loss</th>\n",
       "      <th>mae</th>\n",
       "      <th>mse</th>\n",
       "    </tr>\n",
       "    <tr>\n",
       "      <th>epoch</th>\n",
       "      <th></th>\n",
       "      <th></th>\n",
       "      <th></th>\n",
       "    </tr>\n",
       "  </thead>\n",
       "  <tbody>\n",
       "    <tr>\n",
       "      <th>0</th>\n",
       "      <td>112.098862</td>\n",
       "      <td>10.167043</td>\n",
       "      <td>112.098862</td>\n",
       "    </tr>\n",
       "    <tr>\n",
       "      <th>1</th>\n",
       "      <td>84.490425</td>\n",
       "      <td>8.788629</td>\n",
       "      <td>84.490425</td>\n",
       "    </tr>\n",
       "    <tr>\n",
       "      <th>2</th>\n",
       "      <td>58.653267</td>\n",
       "      <td>7.242329</td>\n",
       "      <td>58.653267</td>\n",
       "    </tr>\n",
       "    <tr>\n",
       "      <th>3</th>\n",
       "      <td>35.487656</td>\n",
       "      <td>5.491128</td>\n",
       "      <td>35.487656</td>\n",
       "    </tr>\n",
       "    <tr>\n",
       "      <th>4</th>\n",
       "      <td>18.832661</td>\n",
       "      <td>3.756225</td>\n",
       "      <td>18.832661</td>\n",
       "    </tr>\n",
       "  </tbody>\n",
       "</table>\n",
       "</div>"
      ],
      "text/plain": [
       "             loss        mae         mse\n",
       "epoch                                   \n",
       "0      112.098862  10.167043  112.098862\n",
       "1       84.490425   8.788629   84.490425\n",
       "2       58.653267   7.242329   58.653267\n",
       "3       35.487656   5.491128   35.487656\n",
       "4       18.832661   3.756225   18.832661"
      ]
     },
     "execution_count": 104,
     "metadata": {},
     "output_type": "execute_result"
    }
   ],
   "source": [
    "hist = pd.DataFrame(history.history)\n",
    "hist['epoch'] = history.epoch\n",
    "hist.set_index('epoch').head()"
   ]
  },
  {
   "cell_type": "code",
   "execution_count": 189,
   "metadata": {},
   "outputs": [
    {
     "data": {
      "text/plain": [
       "Text(0, 0.5, 'Predictions')"
      ]
     },
     "execution_count": 189,
     "metadata": {},
     "output_type": "execute_result"
    },
    {
     "data": {
      "image/png": "[encoded data removed]",
      "text/plain": [
       "<Figure size 432x288 with 1 Axes>"
      ]
     },
     "metadata": {
      "needs_background": "light"
     },
     "output_type": "display_data"
    }
   ],
   "source": [
    "test_predictions = model.predict(test_set_num).flatten()\n",
    "\n",
    "a = plt.axes(aspect='equal')\n",
    "plt.scatter(test_targets, test_predictions)\n",
    "plt.xlabel('True Values')\n",
    "plt.ylabel('Predictions')\n",
    "#lims = [0, 20]\n",
    "#plt.xlim(lims)\n",
    "#plt.ylim(lims)\n",
    "#_ = plt.plot(lims, lims)\n"
   ]
  },
  {
   "cell_type": "markdown",
   "metadata": {},
   "source": [
    "## Classification Model."
   ]
  },
  {
   "cell_type": "markdown",
   "metadata": {},
   "source": [
    "Using binary classification:"
   ]
  },
  {
   "cell_type": "code",
   "execution_count": 65,
   "metadata": {},
   "outputs": [],
   "source": [
    "#Make the targets categorical.\n",
    "def bin_class(bin_val):\n",
    "    for i in bin_val:\n",
    "        binary = bin_val >= 10\n",
    "    binary_dict = {True: 1, False :0}\n",
    "    binary = binary.map(binary_dict)\n",
    "    return binary;"
   ]
  },
  {
   "cell_type": "code",
   "execution_count": 66,
   "metadata": {},
   "outputs": [],
   "source": [
    "val = bin_class(df_port[\"G3\"])\n",
    "train_val = bin_class(train_targets)\n",
    "test_val = bin_class(test_targets)"
   ]
  },
  {
   "cell_type": "markdown",
   "metadata": {},
   "source": [
    "Now we have two categories."
   ]
  },
  {
   "cell_type": "code",
   "execution_count": 67,
   "metadata": {},
   "outputs": [
    {
     "data": {
      "image/png": "[encoded data removed]",
      "text/plain": [
       "<Figure size 432x288 with 1 Axes>"
      ]
     },
     "metadata": {
      "needs_background": "light"
     },
     "output_type": "display_data"
    }
   ],
   "source": [
    "val.value_counts().plot(kind = \"bar\");"
   ]
  },
  {
   "cell_type": "code",
   "execution_count": 68,
   "metadata": {},
   "outputs": [],
   "source": [
    "from sklearn.ensemble import RandomForestClassifier\n",
    "\n",
    "model = RandomForestClassifier(n_estimators=100, max_depth=5, random_state=42)\n",
    "model.fit(train_set_num, train_val)\n",
    "pred = model.predict(test_set_num)"
   ]
  },
  {
   "cell_type": "code",
   "execution_count": 69,
   "metadata": {},
   "outputs": [
    {
     "name": "stdout",
     "output_type": "stream",
     "text": [
      "Predictions:\t [1 1 1 1 1]\n",
      "labels:\t\t [1, 1, 1, 1, 1]\n"
     ]
    }
   ],
   "source": [
    "print(\"Predictions:\\t\",pred[:5])\n",
    "print(\"labels:\\t\\t\",list(test_val[:5]))"
   ]
  },
  {
   "cell_type": "code",
   "execution_count": 71,
   "metadata": {},
   "outputs": [],
   "source": [
    "from sklearn.model_selection import cross_val_score\n",
    "\n",
    "def compute_score(clf, X, y, scoring='accuracy'):\n",
    "    xval = cross_val_score(clf, X, y, cv = 5, scoring=scoring)\n",
    "    return np.mean(xval)"
   ]
  },
  {
   "cell_type": "code",
   "execution_count": 75,
   "metadata": {},
   "outputs": [
    {
     "data": {
      "text/plain": [
       "0.9247946228528754"
      ]
     },
     "execution_count": 75,
     "metadata": {},
     "output_type": "execute_result"
    }
   ],
   "source": [
    "compute_score(model, train_set_num, train_val, scoring='accuracy')"
   ]
  },
  {
   "cell_type": "code",
   "execution_count": 78,
   "metadata": {},
   "outputs": [],
   "source": [
    "confusion_matrix?"
   ]
  },
  {
   "cell_type": "code",
   "execution_count": 79,
   "metadata": {},
   "outputs": [
    {
     "data": {
      "text/plain": [
       "array([[ 10,   5],\n",
       "       [  5, 110]])"
      ]
     },
     "execution_count": 79,
     "metadata": {},
     "output_type": "execute_result"
    }
   ],
   "source": [
    "from sklearn.metrics import confusion_matrix\n",
    "\n",
    "confusion_matrix(test_val,pred)"
   ]
  }
 ],
 "metadata": {
  "kernelspec": {
   "display_name": "tf",
   "language": "python",
   "name": "tf"
  },
  "language_info": {
   "codemirror_mode": {
    "name": "ipython",
    "version": 3
   },
   "file_extension": ".py",
   "mimetype": "text/x-python",
   "name": "python",
   "nbconvert_exporter": "python",
   "pygments_lexer": "ipython3",
   "version": "3.8.5"
  },
  "toc": {
   "base_numbering": 1,
   "nav_menu": {},
   "number_sections": true,
   "sideBar": true,
   "skip_h1_title": false,
   "title_cell": "Table of Contents",
   "title_sidebar": "Contents",
   "toc_cell": false,
   "toc_position": {},
   "toc_section_display": true,
   "toc_window_display": false
  },
  "varInspector": {
   "cols": {
    "lenName": 16,
    "lenType": 16,
    "lenVar": 40
   },
   "kernels_config": {
    "python": {
     "delete_cmd_postfix": "",
     "delete_cmd_prefix": "del ",
     "library": "var_list.py",
     "varRefreshCmd": "print(var_dic_list())"
    },
    "r": {
     "delete_cmd_postfix": ") ",
     "delete_cmd_prefix": "rm(",
     "library": "var_list.r",
     "varRefreshCmd": "cat(var_dic_list()) "
    }
   },
   "types_to_exclude": [
    "module",
    "function",
    "builtin_function_or_method",
    "instance",
    "_Feature"
   ],
   "window_display": false
  }
 },
 "nbformat": 4,
 "nbformat_minor": 4
}
